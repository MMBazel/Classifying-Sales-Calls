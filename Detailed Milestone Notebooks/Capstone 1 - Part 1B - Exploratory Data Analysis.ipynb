{
 "cells": [
  {
   "cell_type": "markdown",
   "metadata": {},
   "source": [
    "# Intro Call Scoring Model - Exploratory Data Analysis"
   ]
  },
  {
   "cell_type": "markdown",
   "metadata": {},
   "source": [
    "Goals of the project:\n",
    "    \n",
    "    1) Determine if correlations between key sales indicators (account level demographics, lead characteritics, etc) and qualification/deal oppty exist.\n",
    "    \n",
    "    2) Is there a statistically significant difference between qualified and disqualified intro calls in regards to information given?\n",
    "    \n",
    "    3) Create machine learning model that allows us to predict whether an introcall will be qualified, whether opportunity will result, and the value of the resulting opportunity. Look at important features as well."
   ]
  },
  {
   "cell_type": "code",
   "execution_count": 1,
   "metadata": {},
   "outputs": [],
   "source": [
    "import psycopg2\n",
    "from sqlalchemy.engine import url as sa_url\n",
    "from sqlalchemy import create_engine\n",
    "from sqlalchemy.orm import sessionmaker\n",
    "\n",
    "import pandas as pd\n",
    "import numpy as np\n",
    "import datetime\n",
    "from scipy import stats\n",
    "\n",
    "import matplotlib.pyplot as plt\n",
    "\n",
    "import seaborn as sns\n",
    "sns.set_style(style='white')\n",
    "\n",
    "from sklearn.model_selection import train_test_split\n",
    "from sklearn.model_selection import KFold\n",
    "from sklearn.metrics import accuracy_score\n",
    "from sklearn.linear_model import LogisticRegression\n",
    "from sklearn.model_selection import GridSearchCV\n",
    "\n",
    "import warnings\n",
    "warnings.filterwarnings(\"ignore\", category=FutureWarning)\n",
    "\n"
   ]
  },
  {
   "cell_type": "code",
   "execution_count": 2,
   "metadata": {},
   "outputs": [],
   "source": [
    "#function to clean dates\n",
    "def clean_dates(df, oldColName, newColName, timedatepattern):\n",
    "    \"\"\"This will take a dataframe, a number of column names & create new columns of datetime objects\"\"\"\n",
    "    emptyDateFrame = []\n",
    "    colPosition = len(df.columns)\n",
    "    for date in df[oldColName]:\n",
    "        if date != None:\n",
    "                if pd.isna(date):\n",
    "                        emptyDateFrame.append(np.nan)\n",
    "                else:        \n",
    "                        if isinstance(date, str):\n",
    "                                emptyDateFrame.append(datetime.datetime.strptime(date, timedatepattern))\n",
    "                        else:\n",
    "                                emptyDateFrame.append(datetime.datetime.strptime(str(date), timedatepattern))\n",
    "        else:\n",
    "            emptyDateFrame.append(None)\n",
    "    df.insert(colPosition, newColName, emptyDateFrame)\n",
    "    del df[oldColName]\n",
    "    return df"
   ]
  },
  {
   "cell_type": "code",
   "execution_count": 3,
   "metadata": {},
   "outputs": [],
   "source": [
    "#function to rempa values based on provded dicts\n",
    "def clean_map(df, dictToMap, oldColName):\n",
    "    \"\"\"This will take a dataframe, \n",
    "    a number of column names & \n",
    "    create new columns of datetime objects\"\"\"\n",
    "    newColName = oldColName + \"_map\"\n",
    "    df[newColName] = df[oldColName].map(dictToMap) \n",
    "    del df[oldColName]\n",
    "    return df\n"
   ]
  },
  {
   "cell_type": "code",
   "execution_count": 4,
   "metadata": {},
   "outputs": [],
   "source": [
    "def ecdf(data):\n",
    "    \"\"\"Compute ECDF for a one-dimensional array of measurements.\"\"\"\n",
    "    # Number of data points: n\n",
    "    n = len(data)\n",
    "\n",
    "    # x-data for the ECDF: x\n",
    "    x = np.sort(data)\n",
    "\n",
    "    # y-data for the ECDF: y\n",
    "    y = np.arange(1, n+1) / n\n",
    "\n",
    "    return x, y"
   ]
  },
  {
   "cell_type": "code",
   "execution_count": 5,
   "metadata": {},
   "outputs": [],
   "source": [
    "def diff_of_means(data_1, data_2):\n",
    "    \"\"\"Difference in means of two arrays.\"\"\"\n",
    "\n",
    "    # The difference of means of data_1, data_2: diff\n",
    "    diff = np.abs(np.mean(data_1) - np.mean(data_2))\n",
    "    newDiff = diff.item()\n",
    "\n",
    "    return newDiff"
   ]
  },
  {
   "cell_type": "code",
   "execution_count": 6,
   "metadata": {},
   "outputs": [],
   "source": [
    "def permutation_sample(data1, data2):\n",
    "    \"\"\"Generate a permutation sample from two data sets.\"\"\"\n",
    "\n",
    "    # Concatenate the data sets: data\n",
    "    data = np.concatenate((data1,data2))\n",
    "\n",
    "    # Permute the concatenated array: permuted_data\n",
    "    permuted_data = np.random.permutation(data)\n",
    "\n",
    "    # Split the permuted array into two: perm_sample_1, perm_sample_2\n",
    "    perm_sample_1 = permuted_data[:len(data1)]\n",
    "    perm_sample_2 = permuted_data[len(data1):]\n",
    "\n",
    "    return perm_sample_1, perm_sample_2"
   ]
  },
  {
   "cell_type": "code",
   "execution_count": 7,
   "metadata": {},
   "outputs": [],
   "source": [
    "def draw_perm_reps(data_1, data_2, func, size=1):\n",
    "    \"\"\"Generate multiple permutation replicates.\"\"\"\n",
    "\n",
    "    # Initialize array of replicates: perm_replicates\n",
    "    perm_replicates = np.empty(size)\n",
    "\n",
    "    for i in range(size):\n",
    "        # Generate permutation sample\n",
    "        perm_sample_1, perm_sample_2 = permutation_sample(data_1, data_2)\n",
    "\n",
    "        # Compute the test statistic\n",
    "        perm_replicates[i] = func(perm_sample_1, perm_sample_2)\n",
    "\n",
    "    return np.array(perm_replicates)"
   ]
  },
  {
   "cell_type": "code",
   "execution_count": 8,
   "metadata": {},
   "outputs": [],
   "source": [
    "def draw_perm_reps_with_ecdf(data_1, data_2, func, size=1):\n",
    "    \"\"\"Generate multiple permutation replicates.\"\"\"\n",
    "\n",
    "    # Initialize array of replicates: perm_replicates\n",
    "    perm_replicates = np.empty(size)\n",
    "\n",
    "    for i in range(size):\n",
    "        _=i\n",
    "        # Generate permutation sample\n",
    "        perm_sample_1, perm_sample_2 = permutation_sample(data_1, data_2)\n",
    "        \n",
    "         # Compute ECDFs\n",
    "        x_1, y_1 = ecdf(perm_sample_1)\n",
    "        x_2, y_2 = ecdf(perm_sample_2)\n",
    "\n",
    "        # Plot ECDFs of permutation sample\n",
    "        _ = plt.plot(x_1, y_1, marker='.', linestyle='none', color='red', alpha=0.02)\n",
    "        _ = plt.plot(x_2, y_2, marker='.', linestyle='none', color='blue', alpha=0.02)\n",
    "\n",
    "\n",
    "        # Compute the test statistic\n",
    "        perm_replicates[i] = func(perm_sample_1, perm_sample_2)\n",
    "\n",
    "    return np.array(perm_replicates), _"
   ]
  },
  {
   "cell_type": "code",
   "execution_count": 9,
   "metadata": {},
   "outputs": [],
   "source": [
    "def bootstrap_replicate_1d(data, func):\n",
    "   # print(type(data))\n",
    "   # print(data.shape)\n",
    "    replicatedArray = np.random.choice(data.flatten(), size=len(data))\n",
    "    return func(replicatedArray)"
   ]
  },
  {
   "cell_type": "code",
   "execution_count": 10,
   "metadata": {},
   "outputs": [],
   "source": [
    "def draw_bs_reps(data, func, size=1):\n",
    "    \"\"\"Draw bootstrap replicates.\"\"\"\n",
    "\n",
    "    # Initialize array of replicates: bs_replicates\n",
    "    bs_replicates = np.empty(size)\n",
    "\n",
    "    # Generate replicates\n",
    "    for i in range(size):\n",
    "        bs_replicates[i] =  bootstrap_replicate_1d(data,func)  \n",
    "\n",
    "    return bs_replicates"
   ]
  },
  {
   "cell_type": "markdown",
   "metadata": {},
   "source": [
    "engine = create_engine('redshift+psycopg2://username@host.amazonaws.com:5439/database')"
   ]
  },
  {
   "cell_type": "code",
   "execution_count": 11,
   "metadata": {},
   "outputs": [],
   "source": [
    "##Create the database connection to the company database\n",
    "#db_connect_url = sa_url.URL(\n",
    "\n",
    "#)\n",
    "#engine = create_engine(db_connect_url)\n",
    "#con = engine.connect()\n",
    "\n",
    "\n",
    "##Ensure connection to the right schemas within the tables within the database\n",
    "#session = sessionmaker()\n",
    "#session.configure(bind=engine)\n",
    "#s = session()\n",
    "#SetPath = \"SET search_path TO %s\" % 'ods'\n",
    "#s.execute(SetPath)"
   ]
  },
  {
   "cell_type": "code",
   "execution_count": 12,
   "metadata": {
    "scrolled": true
   },
   "outputs": [
    {
     "name": "stderr",
     "output_type": "stream",
     "text": [
      "C:\\Users\\mikiko.b\\AppData\\Local\\Continuum\\anaconda3\\lib\\site-packages\\IPython\\core\\interactiveshell.py:2785: DtypeWarning: Columns (3,64,66,72,73,74,75,78,79,83,84,89,92) have mixed types. Specify dtype option on import or set low_memory=False.\n",
      "  interactivity=interactivity, compiler=compiler, result=result)\n"
     ]
    }
   ],
   "source": [
    "## Query vis SQL Aclhemy th Leads and Introcalls tables to create the lead scoring table\n",
    "\n",
    "#leads_query = \"Select * from sf_lead\"\n",
    "#rs = s.execute(leads_query)\n",
    "#leads_raw = pd.DataFrame(rs.fetchall())\n",
    "#leads_raw.columns = rs.keys()\n",
    "\n",
    "\n",
    "#pd.DataFrame(leads_raw.head(50)).to_csv('leads_sample.csv')\n",
    "#leads_raw.to_csv('leads_full_data.csv')\n",
    "leads_raw = pd.read_csv('leads_full_data.csv')"
   ]
  },
  {
   "cell_type": "code",
   "execution_count": 13,
   "metadata": {},
   "outputs": [
    {
     "name": "stderr",
     "output_type": "stream",
     "text": [
      "C:\\Users\\mikiko.b\\AppData\\Local\\Continuum\\anaconda3\\lib\\site-packages\\IPython\\core\\interactiveshell.py:2785: DtypeWarning: Columns (85,93,107,109,113) have mixed types. Specify dtype option on import or set low_memory=False.\n",
      "  interactivity=interactivity, compiler=compiler, result=result)\n"
     ]
    }
   ],
   "source": [
    "##Intro Calls\n",
    "#intro_calls_query = \"Select * from sf_intro_call__c\"\n",
    "#rs = s.execute(intro_calls_query)\n",
    "#intro_calls_raw = pd.DataFrame(rs.fetchall())\n",
    "#intro_calls_raw.columns = rs.keys()\n",
    "\n",
    "#pd.DataFrame(intro_calls_raw.head(50)).to_csv('intro_calls_sample.csv')\n",
    "#intro_calls_raw.to_csv('intro_calls_full_data.csv')\n",
    "intro_calls_raw = pd.read_csv('intro_calls_full_data.csv')"
   ]
  },
  {
   "cell_type": "code",
   "execution_count": 14,
   "metadata": {},
   "outputs": [],
   "source": [
    "#s.close()\n",
    "#con.close()"
   ]
  },
  {
   "cell_type": "markdown",
   "metadata": {},
   "source": [
    "# Data Description"
   ]
  },
  {
   "cell_type": "code",
   "execution_count": 15,
   "metadata": {},
   "outputs": [
    {
     "name": "stdout",
     "output_type": "stream",
     "text": [
      "___________________________________Summary on Leads Object___________________________________\n",
      "<class 'pandas.core.frame.DataFrame'>\n",
      "RangeIndex: 493767 entries, 0 to 493766\n",
      "Columns: 108 entries, Unnamed: 0 to clearbit_employees__c\n",
      "dtypes: bool(17), float64(5), int64(2), object(84)\n",
      "memory usage: 350.8+ MB\n",
      "Leads Raw Info: None\n",
      "Leads Raw Count: Unnamed: 0                            493767\n",
      "id                                    493767\n",
      "isdeleted                             493767\n",
      "masterrecordid                            32\n",
      "lastname                              491233\n",
      "firstname                             381490\n",
      "salutation                              6181\n",
      "name                                  493519\n",
      "title                                 292855\n",
      "company                               492978\n",
      "street                                 67935\n",
      "city                                  427036\n",
      "state                                 250352\n",
      "postalcode                             61654\n",
      "country                               445275\n",
      "email                                 490989\n",
      "leadsource                            493371\n",
      "status                                493767\n",
      "industry                               40737\n",
      "ownerid                               493767\n",
      "hasoptedoutofemail                    493767\n",
      "isconverted                           493767\n",
      "converteddate                          20192\n",
      "convertedaccountid                     20076\n",
      "convertedcontactid                     20062\n",
      "convertedopportunityid                 13814\n",
      "createddate                           493767\n",
      "createdbyid                           493767\n",
      "lastmodifieddate                      493767\n",
      "lastmodifiedbyid                      493767\n",
      "                                       ...  \n",
      "sbc_rejected_reason__c                  2494\n",
      "sbc_rejected_note__c                     599\n",
      "sf_edit_lead__c                       493767\n",
      "sbc_demo__c                           493767\n",
      "walkme_mobile__c                      493767\n",
      "scheduled_se_meeting__c                 3259\n",
      "se_meeting_time__c                       424\n",
      "se_lead__c                            493767\n",
      "outbound_lead__c                      493767\n",
      "se_lead_progress__c                    47890\n",
      "se_lead_rejected__c                    10587\n",
      "of_employees__c                         5260\n",
      "jaco_lead__c                          493767\n",
      "ad_text__c                             52279\n",
      "marketing_camp_id__c                   72861\n",
      "marketing_channel_campaign_id__c      340467\n",
      "marketing_channel_ad_id__c            268150\n",
      "marketing_channel_ad_name__c          170494\n",
      "marketing_channel_campaign_name__c    461031\n",
      "marketing_channel_ad_group_name__c     92004\n",
      "account_gclid__c                       62161\n",
      "ods_update_date                       493767\n",
      "of_employees_category__c              155699\n",
      "market_segment__c                     155699\n",
      "market_segment_code__c                493767\n",
      "account__c                             66842\n",
      "owner_sales_team__c                   312608\n",
      "mintigo_score__c                      109311\n",
      "mintigo_rank__c                       109310\n",
      "clearbit_employees__c                 490248\n",
      "Length: 108, dtype: int64\n",
      "___________________________________Summary on Intro Calls Object___________________________________\n",
      "<class 'pandas.core.frame.DataFrame'>\n",
      "RangeIndex: 23241 entries, 0 to 23240\n",
      "Columns: 115 entries, Unnamed: 0 to product_s__c\n",
      "dtypes: bool(16), float64(12), int64(1), object(86)\n",
      "memory usage: 17.9+ MB\n",
      "Intro Call Raw Info: None\n",
      "Intro Call Raw Count: Unnamed: 0                                 23241\n",
      "id                                         23241\n",
      "ownerid                                    23241\n",
      "isdeleted                                  23241\n",
      "name                                       23241\n",
      "currencyisocode                            23241\n",
      "recordtypeid                               18201\n",
      "createddate                                23241\n",
      "createdbyid                                23241\n",
      "lastmodifieddate                           23241\n",
      "lastmodifiedbyid                           23241\n",
      "systemmodstamp                             23241\n",
      "lastactivitydate                            1312\n",
      "lastvieweddate                                 0\n",
      "lastreferenceddate                             0\n",
      "actual_start_date_time__c                      0\n",
      "application_type__c                        17761\n",
      "assigned_to__c                             23229\n",
      "lead_additional_phone__c                    6287\n",
      "lead_company__c                            22676\n",
      "lead_email__c                              22600\n",
      "lead_name__c                               22676\n",
      "lead_phone__c                              22576\n",
      "meeting_comments__c                        18885\n",
      "meeting_status__c                          23241\n",
      "new_existing_customer__c                   21424\n",
      "no_show_other_reason__c                      176\n",
      "no_show_reason__c                           1395\n",
      "no_of_days_from_schedule_to_meeting__c         0\n",
      "opportunity__c                             23241\n",
      "                                           ...  \n",
      "double_dipper__c                               9\n",
      "infer_score__c                             20225\n",
      "assigned_to_manager__c                     23068\n",
      "created_by_manager__c                      22678\n",
      "lead_status__c                             22676\n",
      "lead_owner_id__c                           22676\n",
      "opportunity_presales_stage__c               3558\n",
      "lead_company_size__c                        6877\n",
      "se_rep__c                                     32\n",
      "is_qualified__c                            23241\n",
      "se_reviewed__c                             23241\n",
      "introduced_walkme_se__c                      932\n",
      "of_employees__c                             9016\n",
      "time_zone__c                               21311\n",
      "owner_sales_team__c                        22834\n",
      "end_date_formula__c                        23237\n",
      "lead_customer_type__c                      22564\n",
      "implementing_partner__c                      272\n",
      "copy_country_from_lead__c                  23241\n",
      "lead_country_text__c                       12157\n",
      "assigned_to_role__c                        23224\n",
      "outbound_lead__c                           23241\n",
      "implementing_partner_details__c              129\n",
      "decision_maker_picklist__c                  9725\n",
      "contact__c                                   538\n",
      "attributed__c                              23241\n",
      "bdr_intro_call__c                          23241\n",
      "intro_call_source_marketing_outbound__c    13657\n",
      "attribution_date__c                            3\n",
      "product_s__c                                5978\n",
      "Length: 115, dtype: int64\n"
     ]
    }
   ],
   "source": [
    "# Lead Data\n",
    "print(\"___________________________________Summary on Leads Object___________________________________\")\n",
    "print(\"Leads Raw Info:\", leads_raw.info())\n",
    "print(\"Leads Raw Count:\", leads_raw.count())\n",
    "lead_raw_list = list(leads_raw.columns)\n",
    "\n",
    "#Intro Call Data\n",
    "print(\"___________________________________Summary on Intro Calls Object___________________________________\")\n",
    "print(\"Intro Call Raw Info:\",intro_calls_raw.info())\n",
    "print(\"Intro Call Raw Count:\",intro_calls_raw.count())\n",
    "intro_calls_raw_list = list(intro_calls_raw.columns)"
   ]
  },
  {
   "cell_type": "code",
   "execution_count": 16,
   "metadata": {},
   "outputs": [],
   "source": [
    "# Fields to Use for master data set\n",
    "lead_fields_masterDataSet =['email','firstname','lastname','title','customer_type__c','company','street','city','state','country','linkedin_page__c','traffic_channels__c','marketing_channel_campaign_name__c','landing_page__c','landing_page_url__c','google_campaign__c','leadsource','converteddate','status_reason__c','status','id','convertedaccountid','convertedcontactid','convertedopportunityid','ownerid','createdbyid','createddate','duplicate_lead__c','isconverted','isdeleted','pitch__c','infer3__infer_score__c','total_calls__c','total_emails__c','users_amount__c','marketing_camp_id__c','marketing_channel_ad_id__c','of_employees_category__c']\n",
    "intro_call_fields_masterDataSet = ['id','lead_name__c','related_account__c','related_opportunity__c','ownerid','contact__c','assigned_to__c','assigned_to_role__c','name','createdbyid','createddate','isdeleted','meeting_status__c','lead_status__c','qualification_date__c','qualified_without_opp_reason_other__c','qualified_without_opportunity_reason__c','rejected_other_reason__c','rejected_reason__c','rescheduled__c','rescheduled_from_intro_call__c','no_show_other_reason__c','no_show_reason__c','additional_user_information__c','meeting_comments__c','sales_comments__c','use_cases_pains__c','customer_employee_facing__c','decision_maker_picklist__c','double_dipper__c','project_due_quarter_fiscal__c','product__c','product_s__c','application_type__c','new_existing_customer__c','intro_call_source_marketing_outbound__c','recordtypeid','created_day_of_the_week__c']"
   ]
  },
  {
   "cell_type": "markdown",
   "metadata": {},
   "source": [
    "## Data Joining"
   ]
  },
  {
   "cell_type": "code",
   "execution_count": 17,
   "metadata": {},
   "outputs": [],
   "source": [
    "# Isolate out the desired data to combine\n",
    "leads_join_masterDataSet = leads_raw[lead_fields_masterDataSet]\n",
    "intro_call_join_masterDataSet = intro_calls_raw[intro_call_fields_masterDataSet]\n"
   ]
  },
  {
   "cell_type": "code",
   "execution_count": 18,
   "metadata": {},
   "outputs": [],
   "source": [
    "# Rename Columns\n",
    "leads_join_masterDataSet.columns = ['email___Lead_PersonalInformation','firstname___Lead_PersonalInformation','lastname___Lead_PersonalInformation','title___Lead_PersonalInformation','customerType___Lead_LeadCompanyInformation','company___Lead_LeadCompanyInformation','street___Lead_LeadCompanyInformation','city___Lead_LeadCompanyInformation','state___Lead_LeadCompanyInformation','country___Lead_LeadCompanyInformation','linkedinPage___Lead_MarketingInformation','trafficChannel___Lead_MarketingInformation','mktChannelcampaign___Lead_MarketingInformation','landingPage___Lead_MarketingInformation','landingPageUrl___Lead_MarketingInformation','googleCampaign___Lead_MarketingInformation','leadsource___Lead_MarketingInformation','converteddate___Lead_ConversionInformation','statusReason___Lead_ConversionInformation','status___Lead_ConversionInformation','PK_LeadID___Lead_ImportantJoinKey','FK_LeadtoAccount___Lead_ImportantJoinKey','FK_LeadtoContact___Lead_ImportantJoinKey','FK_LeadtoOpportunity___Lead_ImportantJoinKey','FK_LeadtoUser___Lead_ImportantJoinKey','createdbyid___Lead_ImportantSystemInfo','createddate___Lead_ImportantSystemInfo','duplicateLead___Lead_ImportantSystemInfo','isconverted___Lead_ImportantSystemInfo','isdeleted___Lead_ImportantSystemInfo','pitch___Lead_AddedInfo','inferScore___Lead_AddedInfo','totalCalls___Lead_AddedInfo','totalEMails___Lead_AddedInfo','usersAmount___Lead_AddedInfo','marketingCampaignID___Lead_AddedInfo','marketingChannelAdID___Lead_AddedInfo','employeeCategory___Lead_AddedInfo']\n",
    "intro_call_join_masterDataSet.columns = ['PK_IntroCall_ID___IntroCall_ImportantIDInfo','FK_IntroCalltoLead___IntroCall_ImportantJoinKey','FK_IntroCalltoAccount___IntroCall_ImportantJoinKey','FK_IntroCalltoOppty___IntroCall_ImportantJoinKey','FK_IntroCalltoUser___IntroCall_ImportantJoinKey','FK_IntroCalltoUser___IntroCall_ImportantJoinKey','FK_IntroCalltoContacts___IntroCall_ImportantJoinKey','assignedToRole___IntroCall_OtherInfo','name___IntroCall_OtherInfo','createdbyid___IntroCall_ImportantSystemInfo','createddate___IntroCall_ImportantSystemInfo','isdeleted___IntroCall_ImportantSystemInfo','Target___IntroCall_Outcome','leadStatus___IntroCall_Outcome','qualDate___IntroCall_Outcome','qualWithoutOppReason1___IntroCall_Outcome','qualWithoutOppReason2___IntroCall_Outcome','rejectedOtherReason___IntroCall_Outcome','rejectedReason___IntroCall_Outcome','rescheduled___IntroCall_Outcome','rescheduledFromIntroCall___IntroCall_Outcome','noShowReason2___IntroCall_Outcome','noShowReason1___IntroCall_Outcome','addUserInfo___IntroCall_MeetingDetails','meetingComments___IntroCall_MeetingDetails','salesComments___IntroCall_MeetingDetails','useCases___IntroCall_MeetingDetails','customerOrEmployee___IntroCall_MeetingDetails','decisionMaker___IntroCall_MeetingDetails','doubleDipper___IntroCall_MeetingDetails','projectDueQ___IntroCall_MeetingDetails','produce1___IntroCall_MeetingDetails','product2___IntroCall_MeetingDetails','appType___IntroCall_MeetingDetails','newOrExistingCustomer___IntroCall_LeadInformation','introCallMktSource___IntroCall_LeadInformation','recordtypeid___IntroCall_LeadInformation','createdDayOFWeek___IntroCall_AddedInfo']"
   ]
  },
  {
   "cell_type": "code",
   "execution_count": 19,
   "metadata": {},
   "outputs": [],
   "source": [
    "# Left Join Lead to Intro Call via Intro Call's lead_name_c and Lead's convertedopportunityid\n",
    "\n",
    "masterDataSet = pd.merge(intro_call_join_masterDataSet,leads_join_masterDataSet, how='left', left_on=['FK_IntroCalltoLead___IntroCall_ImportantJoinKey'],right_on=['PK_LeadID___Lead_ImportantJoinKey'])\n"
   ]
  },
  {
   "cell_type": "code",
   "execution_count": 20,
   "metadata": {},
   "outputs": [],
   "source": [
    "#Making a copy - original safe keeping\n",
    "masterDataSetCopy = masterDataSet.copy()\n",
    "\n",
    "masterDataSetCopy.to_csv('masterDataSet_LeadsIntroCalls_copy.csv')"
   ]
  },
  {
   "cell_type": "code",
   "execution_count": 21,
   "metadata": {},
   "outputs": [],
   "source": [
    "#DateTime Cleaning\n",
    "#masterDataSetCopy_dateTimeTest = clean_dates(masterDataSetCopy, 'qualDate___IntroCall_Outcome','qualDate___IntroCall_Outcome_clean','%Y-%m-%d')\n",
    "masterDataSetCopy_dateTimeTest = clean_dates(masterDataSetCopy, 'converteddate___Lead_ConversionInformation', 'converteddate___Lead_ConversionInformation_clean','%Y-%m-%d')\n",
    "\n",
    "#Because of the odd formatting that occasionally comes out of Salesforce we need to take the first 10 characters before the 'tz' denotation\n",
    "masterDataSetCopy_dateTimeTest['createddate___Lead_ImportantSystemInfo'] = masterDataSetCopy_dateTimeTest['createddate___Lead_ImportantSystemInfo'].str[:10]\n",
    "masterDataSetCopy_dateTimeTest['createddate___IntroCall_ImportantSystemInfo'] = masterDataSetCopy_dateTimeTest['createddate___IntroCall_ImportantSystemInfo'].str[:10]\n",
    "\n",
    "masterDataSetCopy_dateTimeTest = clean_dates(masterDataSetCopy_dateTimeTest, 'createddate___Lead_ImportantSystemInfo', 'createddate___Lead_ImportantSystemInfo_clean','%Y-%m-%d')\n",
    "masterDataSetCopy_dateTimeTest = clean_dates(masterDataSetCopy_dateTimeTest, 'createddate___IntroCall_ImportantSystemInfo', 'createddate___IntroCall_ImportantSystemInfo_clean','%Y-%m-%d')\n"
   ]
  },
  {
   "cell_type": "code",
   "execution_count": 22,
   "metadata": {},
   "outputs": [],
   "source": [
    "# Time Deltas\n",
    "\n",
    "masterDataSetCopy_dateTimeTest['introCallCreated_leadCreated_delta'] = (masterDataSetCopy_dateTimeTest['createddate___IntroCall_ImportantSystemInfo_clean'] - masterDataSetCopy_dateTimeTest['createddate___Lead_ImportantSystemInfo_clean']).dt.days\n",
    "#masterDataSetCopy_dateTimeTest['qualDate_introCallDate_delta'] = (masterDataSetCopy_dateTimeTest['qualDate___IntroCall_Outcome_clean'] - masterDataSetCopy_dateTimeTest['createddate___IntroCall_ImportantSystemInfo_clean']).dt.days\n"
   ]
  },
  {
   "cell_type": "code",
   "execution_count": 23,
   "metadata": {},
   "outputs": [],
   "source": [
    "#use dictionaries to regroup values\n",
    "\n",
    "Target___IntroCall_Outcome_dict={\"Attributed\":1,\"Cancelled\":0,\"No Show\":0,\"Qualified\":1,\"Rejected\":0,\"Rescheduling\":-1,\"Scheduled\":-1}\n",
    "rejectedReason___IntroCall_Outcome_dict={\"Company Too Small\":\"Wrong_Demographic\",\"Does Not See Benefit of WalkMe\":\"Not_Interested\",\"Existing Opportunity\":\"Duplicate\",\"No Budget/Price Too High\":\"Price_Too_High\",\"No Commercial influence\":\"Not_Right_Person\",\"Not A Use Case Fit\":\"Not_Interested\",\"Not Decision Maker\":\"Not_Right_Person\",\"Other (please specify)\":\"Other\",\"Project Fully Outsourced\":\"Other\",\"Startup - Too Expensive\":\"Price_Too_High\",\"Too Few Users\":\"Wrong_Demographic\",\"Wrong Source Version\":\"Other\",\"Wrong Timing\":\"Not_Interested\",\"__\":\"Other\"}\n",
    "status___Lead_ConversionInformation_dict={\"Cancelled\":0,\"Conference Rejuvenated\":-1,\"Contacted\":0,\"Converted\":1,\"Engaged\":-1,\"Finished Sequence\":-1,\"Junk\":0,\"Moved to SE\":-1,\"No Show\":0,\"No longer with company\":0,\"Not Relevant\":0,\"Nurture\":-1,\"Nurture (Outbound)\":-1,\"Open\":-1,\"Prospecting\":-1,\"Qualified\":1,\"Rejected\":0,\"Rejuvenated\":-1,\"SBC - Rejected\":0,\"SE Qualified\":1,\"SE Rejected\":0,\"Scheduled\":-1,\"Sent to Partner\":0,\"Unqualified\":0}\n",
    "trafficChannel___Lead_MarketingInformation_dict={\"Organic SEO\":\"SEO\",\"Affiliate\":\"Affiliate\",\"Banner\":\"Other\",\"Bing\":\"Bing\",\"Biz Dev\":\"Other\",\"BizoLi\":\"Other\",\"Brand\":\"Brand\",\"Bulk upload - R&D's bug\":\"Other\",\"Conference Emails\":\"Email\",\"Conferences\":\"Event/Conference\",\"Conferences Lead Swaps\":\"Event/Conference\",\"Customer Engagement Event\":\"Event/Conference\",\"Email Nurturing\":\"Email\",\"Email Nurturing Conferences\":\"Email\",\"EmailMarketing\":\"Email\",\"EmailNurturing\":\"Email\",\"External\":\"Event/Conference\",\"External Conferences\":\"Event/Conference\",\"Facebook\":\"Facebook\",\"FootPrints\":\"Other\",\"LinkedIn\":\"LinkedIn\",\"Live Chat\":\"Other\",\"Media\":\"Other\",\"Outbound\":\"Outbound\",\"Partner\":\"Partner\",\"Partner Outbound\":\"Partner\",\"Ppc\":\"PPC\",\"Raj List\":\"Other\",\"RefererType11\":\"Other\",\"RefererType12\":\"Other\",\"RefererType18\":\"Other\",\"RefererType20\":\"Other\",\"RefererType5\":\"Other\",\"RefererType6\":\"Other\",\"RefererType7\":\"Other\",\"RefererType8\":\"Other\",\"RefererType9\":\"Other\",\"SearchEngine\":\"Search\",\"Site Banners\":\"Site Banner\",\"Site Banners2\":\"Site Banner\",\"SiteBanners\":\"Site Banner\",\"SiteBanners2\":\"Site Banner\",\"Social Traffic\":\"Other\",\"Super Tools\":\"Other\",\"TestCampaign\":\"Other\",\"TrafficChannel\":\"Other\",\"Twitter\":\"Twitter\",\"Unknown\":\"Unknown\",\"Unomi\":\"Other\",\"Unomy - Strategic\":\"Other\",\"User\":\"User\",\"WalkMe Blog\":\"Blog\",\"WebsiteLink\":\"Website\",\"Youtube\":\"Youtube\",\"sfEdit\":\"Other\",\"unomy\":\"Other\"}\n",
    "stagename___Oppty_CloseInformation_dict={\"1 - Contacted\":\"Open\",\"2 - Demo 1\":\"Open\",\"3 - POC setup\":\"Open\",\"3 - Working\":\"Open\",\"4 - Free POC in Progress\":\"Open\",\"4 - POC \\ Reselling Value\":\"Open\",\"5 - Proposal/Price Quote\":\"Open\",\"6 - Negotiation/Review\":\"Open\",\"7 - Verbal Agreement\":\"Open\",\"8 - Closed Won\":\"Closed Won\",\"9 - Business Lost\":\"Closed Lost\",\"9- Duplicate Opportunity\":\"Duplicate\"}\n",
    "statusReason___Lead_ConversionInformation_dict={\"Already customer\":\"Duplicate\",\"Bad Contact Info\":\"Bad_Data\",\"Company Too Small\":\"Wrong_Demographic\",\"DM Title\":\"Good_Fit\",\"Desktop\":\"Other\",\"Duplicate\":\"Duplicate\",\"Existing Opportunity\":\"Duplicate\",\"Interested\":\"Good_Fit\",\"Interviewing\":\"Good_Fit\",\"Language\":\"Other\",\"No Budget/Price Too High\":\"Price_Too_High\",\"No Commercial influence\":\"Wrong_Demographic\",\"No DM\":\"Not_Right_Person\",\"No Interest\":\"Not_Interested\",\"No Phone Number\":\"Bad_Data\",\"No project\":\"Not_Interested\",\"No response\":\"Not_Interested\",\"No/Bad Phone Number\":\"Bad_Data\",\"Not Decision Maker\":\"Not_Right_Person\",\"Not Relevant\":\"Wrong_Demographic\",\"Not enough users\":\"Wrong_Demographic\",\"Not enough users - External\":\"Wrong_Demographic\",\"Not enough users - Internal\":\"Wrong_Demographic\",\"Nurture - Bad Contact Info\":\"Bad_Data\",\"Nurture - Opt Out\":\"Not_Interested\",\"Nurture - Replied\":\"Not_Interested\",\"Nurture - Unresponsive\":\"Not_Interested\",\"Other\":\"Other\",\"Other (please specify)\":\"Other\",\"Personal Use\":\"Wrong_Demographic\",\"Price\":\"Price_Too_High\",\"Source Version\":\"Good_Fit\",\"Startup - Too Expensive\":\"Price_Too_High\",\"Timing\":\"Good_Fit\",\"Too Few Users\":\"Wrong_Demographic\",\"Wrong Source Version\":\"Wrong_Demographic\",\"Wrong Timing\":\"Wrong_Demographic\"}\n",
    "blReason___Oppty_CloseInformation_dict={\"Competition\":\"Competition\",\"Didn't See Product Value\":\"Not_Interested\",\"Dissapeared\":\"Not_Interested\",\"Duplicate\":\"Duplicate\",\"Merged\":\"Duplicate\",\"No Budget/Price Too High\":\"Price_Too_High\",\"No Decision Maker\":\"Not_Right_Person\",\"No Interest\":\"Not_Interested\",\"Other\":\"Other\",\"Product Not Working\":\"Product\",\"Project Postponed\":\"Other\",\"Project Postponed / Cancelled\":\"Other\",\"Security or Compliance Issues\":\"Other\",\"System Too Small\":\"Wrong_Demographic\",\"Too Few Users\":\"Wrong_Demographic\"}\n",
    "\n",
    "#issues remapping this\n",
    "#landingPage___Lead_MarketingInformation_dict={\"/cx-corporate-5-provide-ultimate-experience\":\"CX\",\"/elearning-1\":\"E_Learning\",\"172594\":\"Other\",\"416863\":\"Other\",\"416883\":\"Other\",\"416913\":\"Other\",\"773984\":\"Other\",\"809853\":\"Other\",\"809923\":\"Other\",\"809963\":\"Other\",\"919723\":\"Other\",\"98-customer-satisfaction\":\"Other\",\"Acumatica\":\"Other\",\"Concur\":\"Concur\",\"EmpTraining\":\"Other\",\"Epicor-Software\":\"Epicor\",\"General\":\"Other\",\"HomePageRequestDemo\":\"Request Demo\",\"IBM-Smarter-workspace\":\"IBM\",\"IBM-WebSphere2\":\"IBM\",\"Instantly-UX\":\"UX\",\"Omri-SF2\":\"Salesforce\",\"Omri-SF2-sales-f-training\":\"Salesforce\",\"Omri-SF2-sf.comtrainig\":\"Salesforce\",\"Omri-SF2-sfdctraining\":\"Salesforce\",\"Omri-SF2-sftraining\":\"Salesforce\",\"PartnerRegPage\":\"Partner\",\"Pegasystems\":\"Pegasystems\",\"PeopleSoft\":\"Peoplesoft\",\"Popup\":\"Popup\",\"QuickBase\":\"QuickBase\",\"SAP-HANA\":\"SAP\",\"SAP-cloud\":\"SAP\",\"SF-easier\":\"Salesforce\",\"SF-never-easier\":\"Salesforce\",\"Sharepoint\":\"Sharepoint\",\"Sharepoint-tra\":\"Sharepoint\",\"UX-Main\":\"UX\",\"UXlp\":\"UX\",\"[land]\":\"UX\",\"absolute-sharepoint\":\"Sharepoint\",\"adoption-corporate-1-ensure-successful\":\"Adoption Corporate\",\"adoption-corporate-1-ensure-successful-adoption\":\"Adoption Corporate\",\"adoption-corporate-2-software-simplify\":\"Adoption Corporate\",\"adoption-corporate-3-ensure-successful-2\":\"Adoption Corporate\",\"adoption-corporatelogo-3-software\":\"Adoption Corporate\",\"adoption-walkmeblog-corporate-006-i\":\"Adoption\",\"adoption_hris\":\"Adoption\",\"adp-onboarding-2\":\"ADP\",\"adp-onboarding/\":\"ADP\",\"advfeatures\":\"other\",\"ariba\":\"Ariba\",\"ariba-corporate-1-simplify-training\":\"Ariba\",\"ariba-corporate-1-using-never-easier\":\"Ariba\",\"ariba-training\":\"Ariba\",\"ariba-training-no-logos\":\"Ariba\",\"ariba-training-wm\":\"Ariba\",\"ariba-tutorial-wm\":\"Ariba\",\"better-ux-wm-2-tw\":\"UX\",\"better-ux-wm-3\":\"UX\",\"cac\":\"Other\",\"change\":\"Change Corporate\",\"change-04\":\"Change Corporate\",\"change-04/\":\"Change Corporate\",\"change-corporate-1\":\"Change Corporate\",\"change-corporate-1-experience-simple-change\":\"Change Corporate\",\"change-corporate-1-gif\":\"Change Corporate\",\"change-corporate-1-management-has-never-easier\":\"Change Corporate\",\"change-corporate-1-management-never-been-easier\":\"Change Corporate\",\"change-corporate-2-enterprise-change-management\":\"Change Corporate\",\"change-corporate-2-enterprise-change-management/\":\"Change Corporate\",\"change-corporate-3-discover-how-easy-can-be\":\"Change Corporate\",\"change-corporate-3-experience-simple-change\":\"Change Corporate\",\"change-corporate-4-experience-simple-change\":\"Change Corporate\",\"change-corporate-4-make-management-easier-than-ever\":\"Change Corporate\",\"change-employee-engagement\":\"Change Employee Engagement \",\"change-management-bl-2\":\"Change Management\",\"change-management-bl-2-demo\":\"Change Management\",\"change-management-easy-wm\":\"Change Management\",\"change-management-lp\":\"Change Management\",\"change-management-lp-wm\":\"Change Management\",\"change-management-software-2\":\"Change Management\",\"change-management-tools\":\"Change Management\",\"change-notify\":\"Change Management\",\"change-s\":\"Change Management\",\"change-walkmeblog-corporate-000-o\":\"Change Management\",\"change-wt-1-make-enterprise-management-easy-and-effective\":\"Change Management\",\"change-wt-3-make-enterprise-management-easy-effective\":\"Change Management\",\"change-wt-3-make-enterprise-management-easy-effective/\":\"Change Management\",\"change03\":\"Change Management\",\"change04\":\"Change Management\",\"changemanagementsolution\":\"Change Management\",\"cio-1\":\"CIO\",\"cio-2b\":\"CIO\",\"cio-2b-tw\":\"CIO\",\"cio-2b-wm\":\"CIO\",\"cio-3\":\"CIO\",\"cio-corporate-1-being-cio-is-not-simple\":\"CIO\",\"cio-corporate-1-simplify-adoption\":\"CIO\",\"cio-corporate-1-simplify-software-adoption\":\"CIO\",\"cio-useradoption-simplify\":\"CIO\",\"cio-useradoption-simplify-software\":\"CIO\",\"cio-wt-1-cio-isnt-simple\":\"CIO\",\"cio-wt-1-isnt-simple\":\"CIO\",\"cnf-df16\":\"Other\",\"cnf-mi\":\"Other\",\"competence\":\"Concur\",\"concur-cv-1-boost-training\":\"Concur\",\"concur-training\":\"Concur\",\"concur-training-boost\":\"Concur\",\"concur-tutorial\":\"Concur\",\"concur-user-onboarding\":\"Concur\",\"concur-user-onboarding-1\":\"Concur\",\"concur-user-onboarding-2-2\":\"Concur\",\"contact\":\"Other\",\"convergence2014\":\"Other\",\"cornerstone-migration\":\"Other\",\"coupa-corporate-5-never-easier\":\"Coupa\",\"coupa-easier-wm\":\"Coupa\",\"coupa-onboarding-wm\":\"Coupa\",\"create-the-ultimate-demo-with-walkme\":\"Create Demo\",\"createtutorials\":\"Create Tutorials\",\"creating-online-tutorials\":\"Create Tutorials\",\"creating-online-tutorials-fr\":\"Create Tutorials\",\"creating-online-tutorials-three-fields\":\"Create Tutorials\",\"creating-online-tutorials-wm\":\"Create Tutorials\",\"creating-online-tutorials/\":\"Create Tutorials\",\"crm\":\"CRM\",\"crm-get-the-most\":\"CRM\",\"crm-learning\":\"CRM\",\"crm-training\":\"CRM\",\"crm-tutorials\":\"CRM\",\"crmlp\":\"CRM\",\"cserv1\":\"Other\",\"cts-s\":\"CTS\",\"cust-engagment\":\"CustomerEngagement_Stories\",\"customer-experience-achieve\":\"CustomerEngagement_Stories\",\"customer-stories\":\"CustomerEngagement_Stories\",\"customer-stories-bing-ads\":\"CustomerEngagement_Stories\",\"customer-stories-db-schenker\":\"CustomerEngagement_Stories\",\"cx-corporate-1-10x-better\":\"CX_Corporate\",\"cx-corporate-1-achieve-best\":\"CX_Corporate\",\"cx-corporate-1-achieve-best-customer-experience\":\"CX_Corporate\",\"cx-corporate-1-instantly-optimize-customer-experience\":\"CX_Corporate\",\"cx-corporate-1-provide-the-ultimate-experience-cartoon\":\"CX_Corporate\",\"cx-corporate-3-customer-journey-map\":\"CX_Corporate\",\"cx-corporate-4-online-customer-experience-better-than-ever\":\"CX_Corporate\",\"cx-corporate-4-online-customer-experience-better-than-ever=Adoption-Promotion\":\"CX_Corporate\",\"cx-corporate-5-achieve-best\":\"CX_Corporate\",\"cx-corporate-5-easily-manage-cx\":\"CX_Corporate\",\"cx-corporate-5-optimize-customer-experience\":\"CX_Corporate\",\"cx-corporate-5-optimize-customer-experience-cartoon\":\"CX_Corporate\",\"cx-corporate-5-provide-ultimate-experience-cartoon\":\"CX_Corporate\",\"cx-digital-experience\":\"CX_Corporate\",\"cx-walkmeblog-corporate-008-q\":\"CX_Corporate\",\"cx-walkmeblog-plainwhite-000-p\":\"CX_Corporate\",\"dap-corporate-2-discover-walkme\":\"DAP\",\"dap-corporate-2-worlds-first-adoption-flatform\":\"DAP\",\"dap-cv-2-help-users-engage-technology\":\"DAP\",\"dap-wta-1-make-technology-work-organization\":\"DAP\",\"demo-corporate-1-create-ultimate-demo\":\"Create Demo\",\"demos\":\"Create Demo\",\"digital-adoption-platform\":\"DAP\",\"digital-adoption-platoform-1\":\"DAP\",\"digital-transformation\":\"Digital Transformatiom\",\"digital-transformation-1\":\"Digital Transformatiom\",\"digital-transformation-2\":\"Digital Transformatiom\",\"digital-transformation-2-2\":\"Digital Transformatiom\",\"digitaltr-walkmeblog-corporate-011-c\":\"Digital Transformatiom\",\"digtr-corporate-1-requires-digital-adoption\":\"Digital Transformatiom\",\"digtr-corporate-1-requires-digital-learning\":\"Digital Transformatiom\",\"digtr-corporate-1-true-digital-adoption/\":\"Digital Transformatiom\",\"digtr-cv-1-digital-made-easy\":\"Digital Transformatiom\",\"dreamforce\":\"Dreamforce\",\"dyna-s\":\"Dynamics\",\"dynamics\":\"Dynamics\",\"dynamics-ax\":\"Dynamics\",\"dynamics-corporate-1-boost-online-training\":\"Dynamics\",\"dynamics-corporate-1-instantly-boost-training\":\"Dynamics\",\"dynamics-easier\":\"Dynamics\",\"dynamics-easier-2-wm\":\"Dynamics\",\"dynamics-lp\":\"Dynamics\",\"dynamics-lp-2\":\"Dynamics\",\"dynamics-pw-1-instantly-boost-online-training\":\"Dynamics\",\"dynamics-training\":\"Dynamics\",\"dynamics-training-2\":\"Dynamics\",\"dynamics-training-2-tw-2-wm\":\"Dynamics\",\"dynamics-training-2-wm\":\"Dynamics\",\"dynamics-tutorial\":\"Dynamics\",\"dynamicsnew\":\"Dynamics\",\"e-learning-easier\":\"E_Learning\",\"e-learning-made-easy-tw\":\"E_Learning\",\"eclinicalworks\":\"E_Learning\",\"effective\":\"E_Learning\",\"effortless training\":\"Effortless Training\",\"effortless-salesforce-lightning-transition\":\"Effortless Training\",\"effortless-training\":\"Effortless Training\",\"effortless-training-bl-tw\":\"Effortless Training\",\"effortless-training-wm\":\"Effortless Training\",\"effortless-training/?t\":\"Effortless Training\",\"effortless-training2\":\"Effortless Training\",\"effortless-training2-tw-wm\":\"Effortless Training\",\"elearning\":\"E_Learning\",\"elearning-1\":\"E_Learning\",\"elearning-1-i\":\"E_Learning\",\"elearning-2-2-an\":\"E_Learning\",\"elearning-corporate-1-creating-solutions-easier-ever\":\"E_Learning\",\"elearning-corporate-1-made-easy-walkme\":\"E_Learning\",\"elearning-corporate-1-online-training\":\"E_Learning\",\"elearning-corporate-1-teach-through-action\":\"E_Learning\",\"elearning-corporate-3-online-training\":\"E_Learning\",\"elearning-online-training\":\"E_Learning\",\"elearning-pw-1-teach-through-action\":\"E_Learning\",\"elearning-solutions\":\"E_Learning\",\"elearning-solutions-tw\":\"E_Learning\",\"elearning-solutions-wm\":\"E_Learning\",\"elearning-teach\":\"E_Learning\",\"elearning-teach-wm\":\"E_Learning\",\"elearning-teach-wm-2-tw\":\"E_Learning\",\"elearning-whitetop-1-gamification\":\"E_Learning\",\"elearning-whitetop-2-gamification\":\"E_Learning\",\"elearning-wm\":\"E_Learning\",\"elearning-wt-1-made-easy\":\"E_Learning\",\"elearning-wt-2-made-easy\":\"E_Learning\",\"elearning2-2-tw\":\"E_Learning\",\"employee-employee-training-gz\":\"Employee Training\",\"employee-engagement-2\":\"Employee Training\",\"employee-onboarding\":\"Employee Training\",\"employee-productivity\":\"Employee Training\",\"employee-training\":\"Employee Training\",\"employee-training-easier\":\"Employee Training\",\"employee-training-easier-gf\":\"Employee Training\",\"employee-training-easier-gf-tw\":\"Employee Training\",\"employee-training-easier-gf-wm\":\"Employee Training\",\"employee-training-easier-st1\":\"Employee Training\",\"employee-training-easier-st1-tw\":\"Employee Training\",\"employee-training-easier-st2\":\"Employee Training\",\"employee-training-easier-st2-2\":\"Employee Training\",\"employee-training-easier-st2-2/\":\"Employee Training\",\"employee-training-easier-st2-3\":\"Employee Training\",\"employee-training-easier-three-fields\":\"Employee Training\",\"employee-training-easier-tw\":\"Employee Training\",\"employee-training-simplify\":\"Employee Training\",\"employee-training-software\":\"Employee Training\",\"employee-training-software-na\":\"Employee Training\",\"employee-training-software/\":\"Employee Training\",\"employee-training-st2\":\"Employee Training\",\"enterprise-tutorials\":\"Create Tutorials\",\"epss-corporate-1-adoption-ensure-successful\":\"Other\",\"erp-imp\":\"Other\",\"erp-pw-3-adoption-make-simple\":\"Other\",\"fb_dynamics\":\"Other\",\"fb_moodle\":\"Other\",\"fb_sap\":\"Other\",\"fpc\":\"Other\",\"free-to-paid\":\"Other\",\"general-demo\":\"Other\",\"hcm-corporate-1-boost-performance-immediately\":\"HCM\",\"hcm-corporate-1-workday-simplify\":\"HCM\",\"home\":\"Home\",\"how-does-salesforce-work\":\"Salesforce\",\"how-to-use-l\":\"Walkme\",\"http://w.walkme.com/createtutorials-lp\":\"Walkme\",\"http://w.walkme.com/employee-training-software\":\"Walkme\",\"http://w.walkme.com/training-competence\":\"Walkme\",\"http://walkme.com/?t=1&camp=comp&eco=competition&adgr=whatfix_exact&keyw=whatfix&matc=e&sear={search}&adin=56783231393&land=home\":\"Walkme\",\"http://www.walkme.com/\":\"Walkme\",\"http://www.walkme.com/?t=2&camp=brand_bing&eco=brand&adgr=walkme_home&keyw=%2Bwalk%20%2Bme&matc=p&adin={creative3}&land=walkme\":\"Walkme\",\"http://www.walkme.com/?t=2&camp=brand_bing&eco=brand&adgr=walkme_home&keyw=%2Bwalkme&matc=e&adin={creative1}&land=walkme\":\"Walkme\",\"http://www.walkme.com/?t=2&camp=brand_bing&eco=brand&adgr=walkme_home&keyw=%2Bwalkme&matc=e&adin={creative2}&land=walkme\":\"Walkme\",\"http://www.walkme.com/?t=2&camp=brand_bing&eco=brand&adgr=walkme_home&keyw=%2Bwalkme&matc=e&adin={creative3}&land=walkme\":\"Walkme\",\"http://www.walkme.com/pages/dynamics-training-2\":\"Dynamics\",\"http://www.walkme.com/pages/salesforce-never-easier-wm\":\"Salesforce\",\"http://www.walkme.com/pages/software-corporate-1-simplify-2/\":\"Walkme\",\"https://www.walkme.com/\":\"Walkme\",\"https://www.walkme.com/?t=1&camp=adextension_walkme&eco=general&keyw=%2Bwalkme&matc=b&sear={search}&adin=285452110016&land=walkme\":\"Walkme\",\"https://www.walkme.com/?t=4&camp=adextension_walkme&eco=general&keyw=%2Bwalkme&matc=e&sear={search}&adin=79577199065785&land=walkme\":\"Walkme\",\"https://www.walkme.com/contact/\":\"Walkme\",\"https://www.walkme.com/customer-stories/\":\"Walkme\",\"https://www.walkme.com/pages/adoption-cv-5-boost-software/\":\"Walkme\",\"https://www.walkme.com/pages/concur-tutorial/\":\"Concur\",\"https://www.walkme.com/pages/creating-online-tutorials/\":\"Walkme\",\"https://www.walkme.com/pages/cx-corporate-3-customer-journey-map/\":\"CX_Corporate\",\"https://www.walkme.com/pages/dap-corporate-2-worlds-first-adoption-flatform/\":\"DAP\",\"https://www.walkme.com/pages/demo-corporate-1-create-ultimate-demo/\":\"Walkme\",\"https://www.walkme.com/pages/demo-corporate-3/\":\"Walkme\",\"https://www.walkme.com/pages/enterprise-tutorials/\":\"Walkme\",\"https://www.walkme.com/pages/onboarding-employees-effortless/\":\"Onboarding\",\"https://www.walkme.com/pages/onboarding-new-users-2-wm/\":\"Onboarding\",\"https://www.walkme.com/pages/salesforce-corporatevideo-3-sf-never-easier/\":\"Salesforce\",\"https://www.walkme.com/pages/software-corporate-1-simplify-2/\":\"Walkme\",\"https://www.walkme.com/pages/software-corporate-1-simplify-software/\":\"Walkme\",\"https://www.walkme.com/pages/software-corporate-2-users-crazy-boy/\":\"Walkme\",\"https://www.walkme.com/pages/software-corporate-4-eliminate-frustration-instantly/\":\"Walkme\",\"https://www.walkme.com/pages/successfactors-easier-wm/\":\"SuccessFactors\",\"https://www.walkme.com/pages/useradoption-simplify-software/\":\"Walkme\",\"https://www.walkme.com/pages/using-salesforce-t/\":\"Salesforce\",\"https://www.walkme.com/pages3/digital-adoption-platoform-1\":\"DAP\",\"imporve-your-ux-st\":\"Improve_Your_UX\",\"improve-cx\":\"Improve_Your_UX\",\"improve-ux-2\":\"Improve_Your_UX\",\"improve-ux-2-p\":\"Improve_Your_UX\",\"improve-ux-2-wm\":\"Improve_Your_UX\",\"improve-ux-2-wm-tw\":\"Improve_Your_UX\",\"improve-ux-lp/\":\"Improve_Your_UX\",\"improve-your-ux\":\"Improve_Your_UX\",\"improve-your-ux-2\":\"Improve_Your_UX\",\"improve-your-ux-gf2\":\"Improve_Your_UX\",\"improve-your-ux-gf2-wm\":\"Improve_Your_UX\",\"improve-your-ux-st\":\"Improve_Your_UX\",\"improve-your-ux-t\":\"Improve_Your_UX\",\"infor-lp\":\"Other\",\"instantly-improve-ux\":\"UX\",\"instantly-improve-ux-wm\":\"UX\",\"instantly-simplify-sap-software2\":\"SAP\",\"instructional-tutorials\":\"Tutorial\",\"instructional-tutorials-wm\":\"Tutorial\",\"instructional-tutorials-wm-tw\":\"Tutorial\",\"iwin-notify\":\"Other\",\"jira-corporate-1-make-work-for-you\":\"JIRA\",\"jira-corporate-1-onboarding-has-never-easier\":\"JIRA\",\"jira-corporate-4-onboarding-never-easier\":\"JIRA\",\"jira-onboarding\":\"JIRA\",\"kronos-easier\":\"Kronos\",\"kronos-training\":\"Kronos\",\"landing_page\":\"Other\",\"learn-sharepoint\":\"Sharepoint\",\"learn-sharepoint/\":\"Sharepoint\",\"longsaas\":\"Other\",\"lp2\":\"Other\",\"ls2014\":\"Create Tutorials\",\"make-a-tutorial/\":\"Create Tutorials\",\"make-tutorial-demo-tw\":\"Create Tutorials\",\"make-tutorials\":\"Create Tutorials\",\"make-tutorials-wm\":\"Create Tutorials\",\"make-tutorials-wm-tw\":\"Create Tutorials\",\"make-tutorials-wm/\":\"Create Tutorials\",\"microsoft-dynamics\":\"Dynamics\",\"microsoftdynamics\":\"Dynamics\",\"moodle\":\"Moodle\",\"moodle-lp\":\"Moodle\",\"moodle-s\":\"Moodle\",\"moodle2\":\"Moodle\",\"navigation\":\"Other\",\"ne01\":\"Netsuite\",\"nets01\":\"Netsuite\",\"netsuite-corporate-1-never-easier\":\"Netsuite\",\"netsuite-cv-2-speed-up-adoption\":\"Netsuite\",\"netsuite-notify\":\"Netsuite\",\"netsuite-wt-2-user-experience\":\"Netsuite\",\"netsuite-wta-1-end-user-training\":\"Netsuite\",\"netsuite-wta-end-user-training\":\"Netsuite\",\"netsweet\":\"Netsuite\",\"never-been-easy\":\"Never_Been_Easier\",\"never-easier\":\"Never_Been_Easier\",\"no-dashmake-tutorials\":\"Other\",\"oboarding-corporate-2-time-to-smooth-onboarding-process\":\"Onboarding\",\"omri-lp2\":\"Salesforce\",\"omri-make-tutorial\":\"Salesforce\",\"omri-sf07\":\"Salesforce\",\"omri-sf08\":\"Salesforce\",\"omri-sf09\":\"Salesforce\",\"omri-sf10\":\"Salesforce\",\"omri-sf11\":\"Salesforce\",\"omri-sf2-learnsf\":\"Salesforce\",\"omri-sf2-online training\":\"Salesforce\",\"omri-sf2-stutorial\":\"Salesforce\",\"omri-sf6\":\"Salesforce\",\"omri-video\":\"Salesforce\",\"onboarding\":\"Onboarding\",\"onboarding-corporate-1-accelerate-step-by-step-tutorials\":\"Onboarding\",\"onboarding-corporate-1-employees-effortless\":\"Onboarding\",\"onboarding-corporate-1-employees-effortless/\":\"Onboarding\",\"onboarding-corporate-1-new-hires-easier\":\"Onboarding\",\"onboarding-corporate-1-new-hires-never-been-easier\":\"Onboarding\",\"onboarding-corporate-1-new-hires-never-easier\":\"Onboarding\",\"onboarding-corporate-1-new-user-never-been-easiser\":\"Onboarding\",\"onboarding-corporate-1-new-users-easier\":\"Onboarding\",\"onboarding-corporate-1-step-by-step-tutorials\":\"Onboarding\",\"onboarding-corporate-1-time-to-simplify\":\"Onboarding\",\"onboarding-corporate-2-new-users\":\"Onboarding\",\"onboarding-corporate-2-onboard-new-hires-right-way\":\"Onboarding\",\"onboarding-employees-effortless\":\"Onboarding\",\"onboarding-new-hires\":\"Onboarding\",\"onboarding-new-hires-2-tw\":\"Onboarding\",\"onboarding-new-hires-image\":\"Onboarding\",\"onboarding-new-users\":\"Onboarding\",\"onboarding-new-users-2\":\"Onboarding\",\"onboarding-new-users-2-wm\":\"Onboarding\",\"onboarding-new-users-wm\":\"Onboarding\",\"onboarding-pw-1-new-hires-easier\":\"Onboarding\",\"onboarding-software\":\"Onboarding\",\"onboarding-software-users2\":\"Onboarding\",\"onboarding-walkmeblog-corporate-003-h\":\"Onboarding\",\"onboarding-wta-1-employees-effortless\":\"Onboarding\",\"onboarding-wta-1-new-hires-never-easier\":\"Onboarding\",\"online-training-platform\":\"Online Training\",\"online-training-solution\":\"Online Training\",\"online-training-solution-bl\":\"Online Training\",\"online-training-solution-tw-wm\":\"Online Training\",\"online-training-solution-wm\":\"Online Training\",\"openyoureyes\":\"Other\",\"oracle-software\":\"Oracle\",\"organizational-change-management\":\"Organizational Change\",\"organizational-change-management-bl-tw\":\"Organizational Change\",\"organizational-change-management-wm\":\"Organizational Change\",\"organizational-change-management/\":\"Organizational Change\",\"pages-workday-learning\":\"Workday\",\"pages/peoplesoft\":\"Peoplesoft\",\"pages/peoplesoft-training\":\"Peoplesoft\",\"pegasystems-adoption\":\"Pegasystems\",\"pegasystems-corporate-1-using-never-easier\":\"Pegasystems\",\"pegasystems-training\":\"Pegasystems\",\"pegasystems-training-2-wm\":\"Pegasystems\",\"pegasystems-training-demo\":\"Pegasystems\",\"pegasystems-training/\":\"Pegasystems\",\"peoplesoft-training-wm\":\"Peoplesoft\",\"peoplesoft-wta-training-has-never-been-easier\":\"Peoplesoft\",\"pricing\":\"Pricing\",\"product-better-ux-bl\":\"Product_Better_UX\",\"product-better-ux-wm\":\"Product_Better_UX\",\"product-better-ux-wm-2\":\"Product_Better_UX\",\"product-better-ux-wm-2-tw\":\"Product_Better_UX\",\"product-better-ux-wm-3\":\"Product_Better_UX\",\"product-better-ux-wm-3-tw\":\"Product_Better_UX\",\"productmanagementlp\":\"ProductManagement\",\"racertosuccess-2\":\"Other\",\"racetosuccess\":\"Other\",\"requestdemo\":\"Other\",\"saas-success\":\"Saas\",\"saas-success-2-tw-2-wm\":\"Saas\",\"saas-success-2-wm\":\"Saas\",\"saas-success-2-wm2\":\"Saas\",\"saas-success-2-wm5\":\"Saas\",\"saas-vendors\":\"Saas\",\"saasaddict\":\"Saas\",\"saaslonglp\":\"Saas\",\"saaslp\":\"Saas\",\"sagex3-maximize-wm\":\"Other\",\"salesforce\":\"Salesforce\",\"salesforce-corporate-1-training-has-never-been-easier\":\"Salesforce\",\"salesforce-corporate-2-never-easier\":\"Salesforce\",\"salesforce-corporate-3-never-easier\":\"Salesforce\",\"salesforce-corporate-3-salesforce-einstein-easier-than-ever\":\"Salesforce\",\"salesforce-corporate-4-never-easier\":\"Salesforce\",\"salesforce-corporate-4-simplify-adoption\":\"Salesforce\",\"salesforce-corporatevideo-3-sf-never-easier\":\"Salesforce\",\"salesforce-cv-1-sf-never-easier\":\"Salesforce\",\"salesforce-easier\":\"Salesforce\",\"salesforce-easier-2-wm\":\"Salesforce\",\"salesforce-how-to-use-l\":\"Salesforce\",\"salesforce-integration-l\":\"Salesforce\",\"salesforce-lightning\":\"Salesforce\",\"salesforce-never\":\"Salesforce\",\"salesforce-never-been-easier\":\"Salesforce\",\"salesforce-never-been-easier-fr\":\"Salesforce\",\"salesforce-never-easier\":\"Salesforce\",\"salesforce-never-easier-st\":\"Salesforce\",\"salesforce-never-easier-st-2\":\"Salesforce\",\"salesforce-never-easier-st-2-2\":\"Salesforce\",\"salesforce-never-easier-st-3\":\"Salesforce\",\"salesforce-never-easier-st-3/\":\"Salesforce\",\"salesforce-never-easier-tw\":\"Salesforce\",\"salesforce-never-easier-wm\":\"Salesforce\",\"salesforce-never-easier2-tw-2-wm\":\"Salesforce\",\"salesforce-never-easier2-wm\":\"Salesforce\",\"salesforce-new\":\"Salesforce\",\"salesforce-onboarding\":\"Salesforce\",\"salesforce-sf-never-easier\":\"Salesforce\",\"salesforce-sf-never-easier/\":\"Salesforce\",\"salesforce-sf-training-moving-image-2/\":\"Salesforce\",\"salesforce-sf-training-moving-wm/\":\"Salesforce\",\"salesforce-sf-training-moving2-wm\":\"Salesforce\",\"salesforce-sforce-never-been-easier\":\"Salesforce\",\"salesforce-simplify-adoption\":\"Salesforce\",\"salesforce-simplify-adoption-2-2\":\"Salesforce\",\"salesforce-training\":\"Salesforce\",\"salesforce-training-2\":\"Salesforce\",\"salesforce-training-lp2\":\"Salesforce\",\"salesforce-training-moving2-tw-wm\":\"Salesforce\",\"salesforce-training-moving2-tw-wm/\":\"Salesforce\",\"salesforce-walkmeblog-corporate-000-l/\":\"Salesforce\",\"salesforce-walkmeblog-corporate-000-m\":\"Salesforce\",\"salesforce-walkmeblog-corporate-007-l\":\"Salesforce\",\"salesforce-whitetop-3-sf-never-easier\":\"Salesforce\",\"salesforce-whitetop-3-sf-never-easier/\":\"Salesforce\",\"salesforce-wt-3-salesforce-einstein-easier-than-ever\":\"Salesforce\",\"salesforce.com-training\":\"Salesforce\",\"salesforce.wm\":\"Salesforce\",\"salesforcelightning-wt-3-never-easier\":\"Salesforce\",\"sap\":\"SAP\",\"sap-software-wm\":\"SAP\",\"sapsuccess\":\"SuccessFactors\",\"sbd-vdo\":\"Other\",\"self-service-n-wm\":\"Other\",\"selfservice\":\"Other\",\"servicenow-corporate-1-instantly-boost\":\"Servicenow\",\"servicenow-easier\":\"Servicenow\",\"servicenow-easier-cta\":\"Servicenow\",\"servicenow-easy-wm\":\"Servicenow\",\"servicenow-pw-1-onboarding-never-easier\":\"Servicenow\",\"servicenow-simpler-wm\":\"Servicenow\",\"servicenow-simplify-wm\":\"Servicenow\",\"servicenow-wta-1-allow-us-simplify-training\":\"Servicenow\",\"sf-never-e\":\"Salesforce\",\"sf-s\":\"Salesforce\",\"sf-training-moving\":\"Salesforce\",\"sf-training-moving-wm/\":\"Salesforce\",\"sf-training-moving2-tw-2-wm\":\"Salesforce\",\"sf-training-moving2-tw-wm\":\"Salesforce\",\"sf-tutorials-moving\":\"Salesforce\",\"sf-wm\":\"Salesforce\",\"sf.mob2\":\"Salesforce\",\"sf2\":\"Salesforce\",\"sforce-never-been-easie\":\"Salesforce\",\"sforce-never-been-easier\":\"Salesforce\",\"sforce-never-been-easier/\":\"Salesforce\",\"sftraining-lp2\":\"Salesforce\",\"sharepoint-adoption\":\"Sharepoint\",\"sharepoint-adoption-image\":\"Sharepoint\",\"sharepoint-adoption-wm\":\"Sharepoint\",\"sharepoint-corporate-1\":\"Sharepoint\",\"sharepoint-corporate-1-boost-online-training\":\"Sharepoint\",\"sharepoint-corporate-1-get-most-investment\":\"Sharepoint\",\"sharepoint-corporate-1-guide-users-boost-adoption\":\"Sharepoint\",\"sharepoint-corporate-1-instantly-boost-your-training\":\"Sharepoint\",\"sharepoint-corporate-4-using-never-easier\":\"Sharepoint\",\"sharepoint-easier-2\":\"Sharepoint\",\"sharepoint-easier-3\":\"Sharepoint\",\"sharepoint-lp\":\"Sharepoint\",\"sharepoint-notify\":\"Sharepoint\",\"sharepoint-pw-1-instantly-simple\":\"Sharepoint\",\"sharepoint-s\":\"Sharepoint\",\"sharepoint-training\":\"Sharepoint\",\"sharepoint-training-2\":\"Sharepoint\",\"sharepoint-training-2-three-fields\":\"Sharepoint\",\"sharepoint-training-2-wm\":\"Sharepoint\",\"sharepoint-training-demo\":\"Sharepoint\",\"sharepoint-training-tw-wm\":\"Sharepoint\",\"sharepoint-tutorial-walk-thrus\":\"Sharepoint\",\"sharepoint-tutorial-walk-thrus-2-2\":\"Sharepoint\",\"sharepoint-tutorial2\":\"Sharepoint\",\"sharepoint-wm\":\"Sharepoint\",\"sharepoint-wt-2-got-easier\":\"Sharepoint\",\"sharepoint-wt-2-got-easier/\":\"Sharepoint\",\"sharepoint-wta-1-instantly-boost-online-training\":\"Sharepoint\",\"sharepoint-wta-instantly-boost-online-training\":\"Sharepoint\",\"sharepoint2-tw-wm\":\"Sharepoint\",\"sharepointfbc\":\"Sharepoint\",\"simonlp1\":\"Other\",\"simple-tutorials\":\"Tutorial\",\"simple-tutorials-tw-2-wm\":\"Tutorial\",\"simple-tutorials-wm\":\"Tutorial\",\"simpletutorials\":\"Tutorial\",\"simplify-sap\":\"SAP\",\"simplify-sap-2\":\"SAP\",\"simplify-sap/\":\"SAP\",\"simplify-sapalkme-for-sap\":\"SAP\",\"simplify-sapalkme-for-sap/?t\":\"SAP\",\"site-salesforce\":\"Salesforce\",\"software-corporate-1-eliminate-frustration\":\"Software Corporate\",\"software-corporate-1-eliminate-user\":\"Software Corporate\",\"software-corporate-1-made-easy-and-effective\":\"Software Corporate\",\"software-corporate-1-simplify-2\":\"Software Corporate\",\"software-corporate-1-simplify-any\":\"Software Corporate\",\"software-corporate-1-simplify-any-software-tw\":\"Software Corporate\",\"software-corporate-1-simplify-software\":\"Software Corporate\",\"software-corporate-2-eliminate-frustration\":\"Software Corporate\",\"software-corporate-2-users-crazy-boy/\":\"Software Corporate\",\"software-corporate-2-users-crazy-girl\":\"Software Corporate\",\"software-corporate-3-simplify\":\"Software Corporate\",\"software-corporate-3-simplify-enterprise-software\":\"Software Corporate\",\"software-corporate-3-simplify-enterprise-software-uk\":\"Software Corporate\",\"software-corporate-4-eliminate-frustration-2\":\"Software Corporate\",\"software-corporate-4-eliminate-frustration-instantly\":\"Software Corporate\",\"software-corporate-4-simplify\":\"Software Corporate\",\"software-corporate-4-simplify-enterprise-software\":\"Software Corporate\",\"software-corporate-4-simplify-enterprise-software-uk\":\"Software Corporate\",\"software-corporatevideo-3-technical-documentation\":\"Software Corporate\",\"software-implementation\":\"Software Corporate\",\"software-plainwhite-5-technical-documentation\":\"Software Corporate\",\"software-pw-1-create-walk-thrus-enterprise\":\"Software Corporate\",\"software-wta-1-online-integrated-software\":\"Software Corporate\",\"spc14\":\"Other\",\"spectech-success\":\"Other\",\"sprtls1\":\"Other\",\"spt-s\":\"Other\",\"ssunleash\":\"Other\",\"step-by-step-tutorials\":\"Tutorial\",\"stop-using-video-tutorials\":\"Tutorial\",\"success-lp1\":\"SuccessFactors\",\"successfactors\":\"SuccessFactors\",\"successfactors-2\":\"SuccessFactors\",\"successfactors-2-2-wm\":\"SuccessFactors\",\"successfactors-2-2-wm/?t\":\"SuccessFactors\",\"successfactors-3\":\"SuccessFactors\",\"successfactors-adoption\":\"SuccessFactors\",\"successfactors-corporate-1-boost-online-training\":\"SuccessFactors\",\"successfactors-corporate-1-get-the-most-investment\":\"SuccessFactors\",\"successfactors-easier-2-wm\":\"SuccessFactors\",\"successfactors-easier-wm\":\"SuccessFactors\",\"successfactors-intuitive-2-wm\":\"SuccessFactors\",\"successfactors-moving\":\"SuccessFactors\",\"successfactors-p3\":\"SuccessFactors\",\"successfactors-p3b\":\"SuccessFactors\",\"successfactors-simpler-2-wm\":\"SuccessFactors\",\"successfactors-training\":\"SuccessFactors\",\"successfactors-training-wm\":\"SuccessFactors\",\"successfactors-wta-1-never-been-easier\":\"SuccessFactors\",\"successfull-notify\":\"Other\",\"support-costs\":\"Other\",\"support-s\":\"Other\",\"tableau-accelerate-learning\":\"Tableau\",\"tableau-accelerate-learning/\":\"Tableau\",\"tableau-corporate-1-accelerate-learning-users\":\"Tableau\",\"tableau-corporate-1-easily-build-interactive-dashboards\":\"Tableau\",\"tableau-corporate-1-make-instantly-simple-use\":\"Tableau\",\"tableau-corporate-1-using-never-easier\":\"Tableau\",\"tableau-cv-1-instantly-boost-adoption\":\"Tableau\",\"tableau-easily-build\":\"Tableau\",\"tableau-instantly-simple\":\"Tableau\",\"tableau-user-performance\":\"Tableau\",\"tableau-user-performance-2/\":\"Tableau\",\"testimonials\":\"Other\",\"the-walkme-platform\":\"Other\",\"tr-s\":\"Other\",\"training\":\"Training\",\"training-automation-training\":\"Training\",\"training-business-intelligence\":\"Training\",\"training-business-intelligence-simple\":\"Training\",\"training-cio\":\"Training\",\"training-corporate-1-discover-ultimate-solution\":\"Training\",\"training-corporate-1-employee-training-never-easier\":\"Training\",\"training-corporate-1-end-user-training\":\"Training\",\"training-corporate-1-maximize-employee-effectiveness\":\"Training\",\"training-corporate-1-maximize-employee-effectiveness-test-a\":\"Training\",\"training-corporate-2-easier\":\"Training\",\"training-corporate-2-instantly-boost\":\"Training\",\"training-corporate-2-maximize-effectiveness\":\"Training\",\"training-corporate-2-maximize-employee-effectiveness-test-b\":\"Training\",\"training-corporate-3-discover-ai-power-employee\":\"Training\",\"training-corporate-3-ditch-outdated-manuals\":\"Training\",\"training-corporate-3-ditch-outdated-manuals-uk\":\"Training\",\"training-corporate-3-enterprise-digital-made-easy\":\"Training\",\"training-corporate-3-maximize-effectiveness\":\"Training\",\"training-corporate-3-maximize-training-effectiveness\":\"Training\",\"training-corporate-4-ditch-outdated-manuals\":\"Training\",\"training-corporate-4-ditch-outdated-methods\":\"Training\",\"training-corporate-4-maximize-effectiveness\":\"Training\",\"training-corporate-4-maximize-effectiveness-uk\":\"Training\",\"training-corporate-4-maximize-employee-training-effectiveness\":\"Training\",\"training-corporate-easier\":\"Training\",\"training-easier-cartoon\":\"Training\",\"training-end-user-training\":\"Training\",\"training-fr\":\"Training\",\"training-learning-software\":\"Training\",\"training-memorable\":\"Training\",\"training-new-system-training\":\"Training\",\"training-program\":\"Training\",\"training-pw-1-management-never-easier\":\"Training\",\"training-s\":\"Training\",\"training-tp-7-ditch-outdated-manual\":\"Training\",\"training-tp-7-enterprise-digital-easy\":\"Training\",\"training-walkme\":\"Training\",\"training-walkme-p\":\"Training\",\"training-walkmeblog-corporate-002-b\":\"Training\",\"training-whitetop-3-maximize-effectiveness\":\"Training\",\"training-whitetopanimated-2-online-solution\":\"Training\",\"training-whitetopanimated-online-solution\":\"Training\",\"training-wt-1-employee-training-never-easier\":\"Training\",\"training-wt-5-employee-training-never-easier\":\"Training\",\"training-wt-5-employee-training-software\":\"Training\",\"training-wt-5-never-easier/\":\"Training\",\"training-wta-1-discover-online-solution\":\"Training\",\"training-wta-1-management-never-easier\":\"Training\",\"training-wta-1-management-never-easier-tw\":\"Training\",\"training-wta-1-maximize-training-effectiveness\":\"Training\",\"training-wta-6-discover-online-solution\":\"Training\",\"training-wta-learning-curve-improve-knowledge-retention\":\"Training\",\"tutorial-corporate-1-create-simplify-knowledge-management\":\"Tutorial\",}\n",
    "\n",
    "masterDataSetCopy_dateTimeTest = clean_map(masterDataSetCopy_dateTimeTest, Target___IntroCall_Outcome_dict, 'Target___IntroCall_Outcome')\n",
    "masterDataSetCopy_dateTimeTest = clean_map(masterDataSetCopy_dateTimeTest, rejectedReason___IntroCall_Outcome_dict, 'rejectedReason___IntroCall_Outcome')\n",
    "masterDataSetCopy_dateTimeTest = clean_map(masterDataSetCopy_dateTimeTest, status___Lead_ConversionInformation_dict, 'status___Lead_ConversionInformation')\n",
    "masterDataSetCopy_dateTimeTest = clean_map(masterDataSetCopy_dateTimeTest, trafficChannel___Lead_MarketingInformation_dict, 'trafficChannel___Lead_MarketingInformation')\n",
    "masterDataSetCopy_dateTimeTest = clean_map(masterDataSetCopy_dateTimeTest, statusReason___Lead_ConversionInformation_dict, 'statusReason___Lead_ConversionInformation')\n",
    "\n"
   ]
  },
  {
   "cell_type": "code",
   "execution_count": 24,
   "metadata": {},
   "outputs": [],
   "source": [
    "#deleting long text columns\n",
    "del masterDataSetCopy_dateTimeTest['qualDate___IntroCall_Outcome']\n",
    "del masterDataSetCopy_dateTimeTest['rejectedOtherReason___IntroCall_Outcome']\n",
    "del masterDataSetCopy_dateTimeTest['qualWithoutOppReason1___IntroCall_Outcome']\n",
    "del masterDataSetCopy_dateTimeTest['noShowReason2___IntroCall_Outcome']\n",
    "del masterDataSetCopy_dateTimeTest['noShowReason1___IntroCall_Outcome']\n",
    "del masterDataSetCopy_dateTimeTest['useCases___IntroCall_MeetingDetails']\n",
    "del masterDataSetCopy_dateTimeTest['leadsource___Lead_MarketingInformation']\n",
    "del masterDataSetCopy_dateTimeTest['googleCampaign___Lead_MarketingInformation']\n",
    "del masterDataSetCopy_dateTimeTest['qualWithoutOppReason2___IntroCall_Outcome']\n",
    "del masterDataSetCopy_dateTimeTest['meetingComments___IntroCall_MeetingDetails']\n",
    "del masterDataSetCopy_dateTimeTest['salesComments___IntroCall_MeetingDetails']\n",
    "del masterDataSetCopy_dateTimeTest['addUserInfo___IntroCall_MeetingDetails']\n",
    "\n",
    "#deleting additional information that isn't necessary to process\n",
    "del masterDataSetCopy_dateTimeTest['email___Lead_PersonalInformation']\n",
    "del masterDataSetCopy_dateTimeTest['firstname___Lead_PersonalInformation']\n",
    "del masterDataSetCopy_dateTimeTest['lastname___Lead_PersonalInformation']\n",
    "del masterDataSetCopy_dateTimeTest['street___Lead_LeadCompanyInformation']\n",
    "\n",
    "# Delete join keys\n",
    "\n",
    "del masterDataSetCopy_dateTimeTest['FK_IntroCalltoLead___IntroCall_ImportantJoinKey']\n",
    "del masterDataSetCopy_dateTimeTest['FK_IntroCalltoAccount___IntroCall_ImportantJoinKey']\n",
    "#masterDataSetCopy_dateTimeTest['FK_IntroCalltoOppty___IntroCall_ImportantJoinKey']\n",
    "del masterDataSetCopy_dateTimeTest['FK_IntroCalltoUser___IntroCall_ImportantJoinKey']\n",
    "del masterDataSetCopy_dateTimeTest['FK_IntroCalltoContacts___IntroCall_ImportantJoinKey']\n",
    "del masterDataSetCopy_dateTimeTest['createdbyid___IntroCall_ImportantSystemInfo']\n",
    "del masterDataSetCopy_dateTimeTest['recordtypeid___IntroCall_LeadInformation']\n",
    "del masterDataSetCopy_dateTimeTest['PK_LeadID___Lead_ImportantJoinKey']\n",
    "del masterDataSetCopy_dateTimeTest['FK_LeadtoAccount___Lead_ImportantJoinKey']\n",
    "del masterDataSetCopy_dateTimeTest['FK_LeadtoContact___Lead_ImportantJoinKey']\n",
    "del masterDataSetCopy_dateTimeTest['FK_LeadtoOpportunity___Lead_ImportantJoinKey']\n",
    "del masterDataSetCopy_dateTimeTest['FK_LeadtoUser___Lead_ImportantJoinKey']\n",
    "del masterDataSetCopy_dateTimeTest['createdbyid___Lead_ImportantSystemInfo']\n"
   ]
  },
  {
   "cell_type": "code",
   "execution_count": 25,
   "metadata": {},
   "outputs": [],
   "source": [
    "rescheduled___IntroCall_Outcome_dict={\"Yes\":1,\"No\":0,\"\":0}\n",
    "customerOrEmployee___IntroCall_MeetingDetails_dict={\"Both\":3,\"Employee\":2,\"Customer\":1,\"Unknown\":0,\"\":0}\n",
    "createdDayOFWeek___IntroCall_AddedInfo_dict={\"Monday\":1,\"Tuesday\":2,\"Wednesday\":3,\"Thursday \":4,\"Friday \":5,\"Saturday\":6,\"Sunday\":7}\n",
    "pitch___Lead_AddedInfo_dict={\"employeeproductivity\":1,\"Adoption-Promotion\":2,\"employeetraining\":3,\"Employee-Productivity\":1,\"Employee-Training\":3,\"Employee-Producitvity\":2,\"Customer-Care\":4,\"training\":5,\"Employee-Training3\":3,\"Sharepoint\":6,\"Employee-Productivty\":3,\"Employee-Producivity\":3,\"productivity\":3,\"e0\":3,\"adoption\":2,\"Employee-Productivity6\":3,\"customeronboarding\":7,\"unomy\":8,\"top20\":9,\"Insight Venture Partners\":10,\"Insight Venture Partner\":10,\"Salesforce\":11,\"Employee-Traininge\":3,\"Workday\":12,\"e3\":3,\"[pitch]\":13,\"Employee-Integration\":14,\"\":0}\n",
    "decisionMaker___IntroCall_MeetingDetails_dict={\"Yes\":3,\"Influencer\":2,\"No\":1,\"\":0}\n",
    "employeeCategory___Lead_AddedInfo_dict={\"Strategic\":4,\"MM\":3,\"Enterprise\":2,\"Startup\":1,\"\":0}\n",
    "\n",
    "masterDataSetCopy_dateTimeTest = clean_map(masterDataSetCopy_dateTimeTest, rescheduled___IntroCall_Outcome_dict, 'rescheduled___IntroCall_Outcome')\n",
    "masterDataSetCopy_dateTimeTest = clean_map(masterDataSetCopy_dateTimeTest, customerOrEmployee___IntroCall_MeetingDetails_dict, 'customerOrEmployee___IntroCall_MeetingDetails')\n",
    "masterDataSetCopy_dateTimeTest = clean_map(masterDataSetCopy_dateTimeTest, createdDayOFWeek___IntroCall_AddedInfo_dict, 'createdDayOFWeek___IntroCall_AddedInfo')\n",
    "masterDataSetCopy_dateTimeTest = clean_map(masterDataSetCopy_dateTimeTest, pitch___Lead_AddedInfo_dict, 'pitch___Lead_AddedInfo')\n",
    "masterDataSetCopy_dateTimeTest = clean_map(masterDataSetCopy_dateTimeTest, decisionMaker___IntroCall_MeetingDetails_dict, 'decisionMaker___IntroCall_MeetingDetails')\n",
    "masterDataSetCopy_dateTimeTest = clean_map(masterDataSetCopy_dateTimeTest, employeeCategory___Lead_AddedInfo_dict, 'employeeCategory___Lead_AddedInfo')"
   ]
  },
  {
   "cell_type": "code",
   "execution_count": 26,
   "metadata": {},
   "outputs": [],
   "source": [
    "#Separating out the closed out demo's from the demos still open\n",
    "\n",
    "openIntroCalls_Data = masterDataSetCopy_dateTimeTest.loc[masterDataSetCopy_dateTimeTest['Target___IntroCall_Outcome_map']<0].copy()\n",
    "closedIntroCalls_Data = masterDataSetCopy_dateTimeTest.loc[masterDataSetCopy_dateTimeTest['Target___IntroCall_Outcome_map']>-1].copy()# Create a copy of the data frame\n"
   ]
  },
  {
   "cell_type": "code",
   "execution_count": 27,
   "metadata": {},
   "outputs": [
    {
     "data": {
      "text/plain": [
       "array(['PK_IntroCall_ID___IntroCall_ImportantIDInfo',\n",
       "       'FK_IntroCalltoOppty___IntroCall_ImportantJoinKey',\n",
       "       'assignedToRole___IntroCall_OtherInfo',\n",
       "       'name___IntroCall_OtherInfo',\n",
       "       'isdeleted___IntroCall_ImportantSystemInfo',\n",
       "       'leadStatus___IntroCall_Outcome',\n",
       "       'rescheduledFromIntroCall___IntroCall_Outcome',\n",
       "       'doubleDipper___IntroCall_MeetingDetails',\n",
       "       'projectDueQ___IntroCall_MeetingDetails',\n",
       "       'produce1___IntroCall_MeetingDetails',\n",
       "       'product2___IntroCall_MeetingDetails',\n",
       "       'appType___IntroCall_MeetingDetails',\n",
       "       'newOrExistingCustomer___IntroCall_LeadInformation',\n",
       "       'introCallMktSource___IntroCall_LeadInformation',\n",
       "       'title___Lead_PersonalInformation',\n",
       "       'customerType___Lead_LeadCompanyInformation',\n",
       "       'company___Lead_LeadCompanyInformation',\n",
       "       'city___Lead_LeadCompanyInformation',\n",
       "       'state___Lead_LeadCompanyInformation',\n",
       "       'country___Lead_LeadCompanyInformation',\n",
       "       'linkedinPage___Lead_MarketingInformation',\n",
       "       'mktChannelcampaign___Lead_MarketingInformation',\n",
       "       'landingPage___Lead_MarketingInformation',\n",
       "       'landingPageUrl___Lead_MarketingInformation',\n",
       "       'duplicateLead___Lead_ImportantSystemInfo',\n",
       "       'isconverted___Lead_ImportantSystemInfo',\n",
       "       'isdeleted___Lead_ImportantSystemInfo',\n",
       "       'inferScore___Lead_AddedInfo', 'totalCalls___Lead_AddedInfo',\n",
       "       'totalEMails___Lead_AddedInfo', 'usersAmount___Lead_AddedInfo',\n",
       "       'marketingCampaignID___Lead_AddedInfo',\n",
       "       'marketingChannelAdID___Lead_AddedInfo',\n",
       "       'converteddate___Lead_ConversionInformation_clean',\n",
       "       'createddate___Lead_ImportantSystemInfo_clean',\n",
       "       'createddate___IntroCall_ImportantSystemInfo_clean',\n",
       "       'introCallCreated_leadCreated_delta',\n",
       "       'Target___IntroCall_Outcome_map',\n",
       "       'rejectedReason___IntroCall_Outcome_map',\n",
       "       'status___Lead_ConversionInformation_map',\n",
       "       'trafficChannel___Lead_MarketingInformation_map',\n",
       "       'statusReason___Lead_ConversionInformation_map',\n",
       "       'rescheduled___IntroCall_Outcome_map',\n",
       "       'customerOrEmployee___IntroCall_MeetingDetails_map',\n",
       "       'createdDayOFWeek___IntroCall_AddedInfo_map',\n",
       "       'pitch___Lead_AddedInfo_map',\n",
       "       'decisionMaker___IntroCall_MeetingDetails_map',\n",
       "       'employeeCategory___Lead_AddedInfo_map'], dtype=object)"
      ]
     },
     "execution_count": 27,
     "metadata": {},
     "output_type": "execute_result"
    }
   ],
   "source": [
    "closedIntroCalls_Data.columns.values"
   ]
  },
  {
   "cell_type": "code",
   "execution_count": 28,
   "metadata": {},
   "outputs": [],
   "source": [
    "closedIntroCalls_Data['totalCallsEmails'] = closedIntroCalls_Data['totalEMails___Lead_AddedInfo'] + closedIntroCalls_Data['totalEMails___Lead_AddedInfo'] "
   ]
  },
  {
   "cell_type": "markdown",
   "metadata": {},
   "source": [
    "# Data Exploratory Analysis\n"
   ]
  },
  {
   "cell_type": "markdown",
   "metadata": {},
   "source": [
    "### Relationships to be explored (as related to Intro Call qualification)\n",
    "\n",
    "#### Are there variables that are particularly significant in terms of explaining the answer to your project question?\n",
    "\n",
    "For this section of the capstone project I chose to analyse the relationship between the qualification status of intro calls (the Target variable) and the Lead Score, Total Calls & Emails (exchanged between the sales team and the prospect), and the duration between when the lead was created and when an intro call was created (or the time it took for someone to respond and qualify the prospect for a demo).  \n",
    "\n",
    "\n",
    "There are additional features that could potentially be valuable (Country, Landing Page, Marketing Traffic Channel, Customer Type) that won’t be considered here but are potentially still valuable.\n",
    "\n",
    "\n",
    "#### Are there strong correlations between pairs of independent variables or between an independent and a dependent variable?\n",
    "From previous exploration with this data set we have the following intuition:\n",
    "\n",
    "* Lead Score vs. Total Calls/Emails - Higher lead scores for disqualified intro calls were accompanied by more engagement (Total Calls + Emails), while Qualified Intro Calls showed a flatter relationship.  \n",
    "\n",
    "* Time Delta Between Lead & Intro Call Creation vs. Target Outcome - Qualified and Unqualified Intro Calls showed similar relationships between Time Delta and Total Calls & Emails. \n",
    "\n",
    "\n",
    "\n",
    "From experience with the business context of the project, additional assumptions should be tested:\n",
    "\n",
    "\n",
    "* Lead Scores vs. Target Outcome - \n",
    "There should be no difference in average scores between two groups (and scores should be concentrated between 80-90, with no leads with scores below 60) because marketing claimed to automatically reject leads with a grade of D or below (which should correspond to a lead score of 60).\n",
    "\n",
    "\n",
    "* Total Calls & Emails vs. Target Outcome - \n",
    ">> *  We could see potentially two opposing trends at work, with regards to level of engagement with the prospect and their suitability for sales. \n",
    "\n",
    ">> *  We could a positive relationship between amount of engagement for unqualified candidates (where sales reps need to exert additional effort to pull them further into the sales cycle). \n",
    "\n",
    ">> *  We could see a negative relationship between level of engagement (via Total Calls & Emails) for qualified prospects (higher quality due to greater suitability or interest, so less effort needed to pull the prospect into the sales cycle). \n",
    "\n",
    ">> *  We could also see a positive relationship where savvy, highly engaged shoppers are requiring more engagement from our sales teams through follow-up questions and due diligence. \n",
    "\n",
    "* Time Delta Between Lead & Intro Call Creation vs. Target Outcome\n",
    ">> * Freshness is an important concept in sales and the common intuition is the longer the sales cycle takes (assuming same resulting payoffs), the less likely a prospect will stay engaged in the sales cycle. \n",
    "By using both frequentist and randomized approaches, we can understand how significantly different the means are between the groups (by Target Outcome) and whether these differences could be explained through chance. \n",
    "\n",
    "#### What are the most appropriate tests to use to analyse these relationships?\n",
    "\n",
    "For each variable I chose to do a permutation test, a bootstrap test, a Mann-Whitney test, and a Welch’s t-test in order of restrictiveness of criteria. I chose to perform the permutation and bootstrap tests due to lack of assumptions around normality, distributions, and equal variances. I then performed a Mann-Whitney test and Welch’s t-test to further validate the results of the randomization models. \n"
   ]
  },
  {
   "cell_type": "markdown",
   "metadata": {},
   "source": [
    "## Analysis 1: Lead Score vs Target Outcome\n",
    "\n",
    "* We first want to understand the summary statistics of Qualified vs. Unqualified Intro Calls and whether the assertion that there is no difference (and lead scores should be 60+).\n",
    "\n",
    "> * From printing the summary statistics, we can already see that the assertion that the sales team doesn’t interact with leads below 60 is false. Both samples of Qualified and Disqualified Intro Calls had a minimum below 60 (Qualified: 9, Disqualified: 6). \n",
    "> * However our Qualified sample is displaying an IQR of [82 (25%), 92 (75%)] and our Disqualified sample is displaying an IQR of [73 (25%), 91 (75%)], so it’s possible the assertion that the majority of leads leading to demo calls should be around 70-90. We also observe a difference in means: Qualified (84), Unqualified (80).   \n"
   ]
  },
  {
   "cell_type": "code",
   "execution_count": 29,
   "metadata": {},
   "outputs": [
    {
     "name": "stdout",
     "output_type": "stream",
     "text": [
      "Summary of Qualified Intro Calls:         inferScore___Lead_AddedInfo\n",
      "count                 10166.000000\n",
      "mean                     84.191717\n",
      "std                      13.997159\n",
      "min                       9.000000\n",
      "25%                      82.000000\n",
      "50%                      90.000000\n",
      "75%                      92.000000\n",
      "max                     100.000000\n",
      "\n",
      "\n",
      "Summary of Not Qualified Intro Calls:         inferScore___Lead_AddedInfo\n",
      "count                  9816.000000\n",
      "mean                     79.378769\n",
      "std                      17.715749\n",
      "min                       6.000000\n",
      "25%                      73.000000\n",
      "50%                      88.000000\n",
      "75%                      91.000000\n",
      "max                     100.000000\n"
     ]
    },
    {
     "data": {
      "image/png": "[encoded data removed]",
      "text/plain": [
       "<Figure size 432x288 with 1 Axes>"
      ]
     },
     "metadata": {
      "needs_background": "light"
     },
     "output_type": "display_data"
    },
    {
     "data": {
      "image/png": "[encoded data removed]",
      "text/plain": [
       "<Figure size 432x288 with 1 Axes>"
      ]
     },
     "metadata": {
      "needs_background": "light"
     },
     "output_type": "display_data"
    },
    {
     "data": {
      "image/png": "[encoded data removed]",
      "text/plain": [
       "<Figure size 432x288 with 1 Axes>"
      ]
     },
     "metadata": {
      "needs_background": "light"
     },
     "output_type": "display_data"
    }
   ],
   "source": [
    "### Lead Score\n",
    "\n",
    "closedWonIntro = closedIntroCalls_Data[closedIntroCalls_Data['Target___IntroCall_Outcome_map']==1]\n",
    "closedLostIntro = closedIntroCalls_Data[closedIntroCalls_Data['Target___IntroCall_Outcome_map']==0]\n",
    "\n",
    "\n",
    "\n",
    "\n",
    "normSample = np.random.normal(np.mean(closedIntroCalls_Data.inferScore___Lead_AddedInfo), np.std(closedIntroCalls_Data.inferScore___Lead_AddedInfo), size=100000)\n",
    "\n",
    "\n",
    "print(\"Summary of Qualified Intro Calls: \", closedWonIntro[['inferScore___Lead_AddedInfo']].describe())\n",
    "print(\"\\n\")\n",
    "print(\"Summary of Not Qualified Intro Calls: \", closedLostIntro[['inferScore___Lead_AddedInfo']].describe())\n",
    "\n",
    "\n",
    "# Compute ECDFs\n",
    "x_qual, y_qual = ecdf(closedIntroCalls_Data[closedIntroCalls_Data['Target___IntroCall_Outcome_map']==1].inferScore___Lead_AddedInfo)\n",
    "x_notQual, y_notQual = ecdf(closedIntroCalls_Data[closedIntroCalls_Data['Target___IntroCall_Outcome_map']==0].inferScore___Lead_AddedInfo)\n",
    "\n",
    "\n",
    "\n",
    "\n",
    "# Plot all ECDFs on the same plot\n",
    "_ = plt.plot(x_qual, y_qual, marker = '*', linestyle = 'none')\n",
    "_ = plt.plot(x_notQual, y_notQual, marker = '.', linestyle = 'none')\n",
    "\n",
    "\n",
    "# Annotate the plot\n",
    "plt.legend(('Qual', 'Not Qualified'), loc='lower right')\n",
    "_ = plt.xlabel('Lead Scores')\n",
    "_ = plt.ylabel('ECDF')\n",
    "_ = plt.title('Fig 1A: ECDF of Lead Scores by Qualified vs. Unqualified Intro Calls')\n",
    "\n",
    "# Display the plot\n",
    "plt.show()\n",
    "\n",
    "\n",
    "# Create bee swarm plot\n",
    "fig2 = sns.violinplot(x='inferScore___Lead_AddedInfo',y='Target___IntroCall_Outcome_map',data=closedIntroCalls_Data, scale='count',orient='h')\n",
    "\n",
    "# Label the axes\n",
    "fig2 = plt.xlabel('Lead Score')\n",
    "fig2 = plt.ylabel('Target: Intro Call Outcome')\n",
    "fig2 = plt.title('Fig 1B: Violin Plot: Lead Scores by Qualified vs. Unqualified Intro Calls')\n",
    "\n",
    "# Show the plot\n",
    "plt.show()\n",
    "\n",
    "\n",
    "\n",
    "# Create box plot with Seaborn's default settings\n",
    "fig3 = sns.boxplot(y='Target___IntroCall_Outcome_map',x='inferScore___Lead_AddedInfo',data=closedIntroCalls_Data, orient='h')\n",
    "\n",
    "# Label the axes\n",
    "fig3 =plt.xlabel('Target: Intro Call Outcome')\n",
    "fig3 =plt.ylabel('Lead Score')\n",
    "fig3 = plt.title('Fig 1C: Box Plot: Lead Scores by Qualified vs. Unqualified Intro Calls')\n",
    "\n",
    "\n",
    "# Show the plot\n",
    "plt.show()\n",
    "\n",
    "\n",
    "\n",
    "\n"
   ]
  },
  {
   "cell_type": "markdown",
   "metadata": {},
   "source": [
    "I created charts showing the empirical cumulative distribution function (Fig 1A), the distribution of lead scores (Fig 1B), and a box-plot displaying the summary statistics (Fig 1C) in order to further understand the distributions of lead scores. \n",
    "\n",
    "> * [Fig 1A] We can see from the ECDF that both groups experience a pick up at Lead Score ~ 80, where a relatively larger proportion of prospects exist. However our sample of Disqualified Intro Calls shows a relatively higher proportion of leads between 40 and 90.\n",
    "> * [Fig 1B] Each violin plot is scaled by count. We can see that the samples are roughly the same size, seem to have medians concentrated around ~90 (visually confirm the summary statistics we printed earlier), and both are left skewed. The Unqualified Lead Scores (Target Outcome = 0) sample also has a fatter peak and more observations in the 60 & below range (as shown by the fatter tail).     \n",
    "> * [Fig 1C] We can see that the Unqualified Lead Scores potentially display higher variance and have lower lead scores at the 25%.   \n",
    "\n"
   ]
  },
  {
   "cell_type": "code",
   "execution_count": 30,
   "metadata": {},
   "outputs": [
    {
     "name": "stdout",
     "output_type": "stream",
     "text": [
      "Qualified Intro Calls (Lead Score):      inferScore___Lead_AddedInfo\n",
      "6                          93.0\n",
      "8                          88.0\n",
      "9                          87.0\n",
      "12                         75.0\n",
      "13                         90.0\n",
      "17                         88.0\n",
      "20                         97.0\n",
      "23                         92.0\n",
      "25                         92.0\n",
      "27                         90.0\n",
      "28                         87.0\n",
      "29                         90.0\n",
      "32                         90.0\n",
      "36                         94.0\n",
      "37                         90.0\n",
      "38                         89.0\n",
      "41                         92.0\n",
      "42                         90.0\n",
      "44                         90.0\n",
      "45                         82.0\n",
      "\n",
      " \n",
      " \n",
      "\n",
      "Disqualified Intro Calls (Lead Score):      inferScore___Lead_AddedInfo\n",
      "0                          90.0\n",
      "1                          90.0\n",
      "3                          54.0\n",
      "4                          94.0\n",
      "5                          80.0\n",
      "7                          92.0\n",
      "10                         90.0\n",
      "11                         85.0\n",
      "14                         85.0\n",
      "18                         90.0\n",
      "21                         90.0\n",
      "22                         92.0\n",
      "24                         93.0\n",
      "26                         92.0\n",
      "30                         74.0\n",
      "31                         79.0\n",
      "33                         87.0\n",
      "35                         91.0\n",
      "40                         90.0\n",
      "46                         81.0\n",
      "\n",
      " \n",
      " \n",
      "\n",
      "Empirical Diff of Mean: 4.812948133518233\n",
      "\n",
      "\n"
     ]
    },
    {
     "data": {
      "image/png": "[encoded data removed]",
      "text/plain": [
       "<Figure size 432x288 with 1 Axes>"
      ]
     },
     "metadata": {
      "needs_background": "light"
     },
     "output_type": "display_data"
    },
    {
     "name": "stdout",
     "output_type": "stream",
     "text": [
      "\n",
      " \n",
      " \n",
      "\n",
      "Proportion of replicates with value as great or greater than empirical diff of means\n",
      "p-value = 0.0000\n"
     ]
    }
   ],
   "source": [
    "# Hypothesis 1: Permutation Test - \n",
    "# Simulating the null hypothesis that the two variables have identical distributions\n",
    "# Measuring the difference between resulting calculated means to understand how much the\n",
    "# resulting difference would shift compared to the empirical difference between original groups\n",
    "# If there is no measureable difference, then reshuffling of labels should be arbitrary\n",
    "\n",
    "# p-value in this case is measuring the proportion of replicates that have as \n",
    "# big a value as the empirical diff (or greater)\n",
    "# Statistically significant p-value is low\n",
    "# i.e. whether it falls into the tails of the empirically derived sampling distribution \n",
    "\n",
    "# Compute difference of mean impact force from experiment: empirical_diff_means\n",
    "\n",
    "force_a = closedWonIntro[['inferScore___Lead_AddedInfo']]\n",
    "force_a = force_a.dropna()\n",
    "\n",
    "force_b = closedLostIntro[['inferScore___Lead_AddedInfo']]\n",
    "force_b = force_b.dropna()\n",
    "\n",
    "print(\"Qualified Intro Calls (Lead Score): \", force_a.head(20))\n",
    "print(\"\\n \\n \\n\")\n",
    "print(\"Disqualified Intro Calls (Lead Score): \", force_b.head(20))\n",
    "\n",
    "# Compute difference of mean impact force from experiment: empirical_diff_means\n",
    "empirical_diff_means = diff_of_means(force_a, force_b)\n",
    "\n",
    "print(\"\\n \\n \\n\")\n",
    "print(\"Empirical Diff of Mean:\", empirical_diff_means)\n",
    "\n",
    "# Draw 10,000 permutation replicates: perm_replicates\n",
    "perm_replicates= draw_perm_reps(force_a, force_b, diff_of_means, size=10000)\n",
    "\n",
    "\n",
    "print(\"\\n\")\n",
    "\n",
    "fig4 = plt.hist(perm_replicates)\n",
    "fig4 = plt.xlabel('Permutated Replciates: Diff of Means')\n",
    "fig4 = plt.ylabel('Count out of 10,000 Draws')\n",
    "fig4 = plt.title('Fig 1D: Histogram of Permutated Replicates of Diff of Means for Qualified & Disqualified Intro Calls')\n",
    "\n",
    "\n",
    "plt.show()\n",
    "\n",
    "\n",
    "# Compute p-value: p\n",
    "p = len(perm_replicates[perm_replicates >= empirical_diff_means]) / len(perm_replicates)\n",
    "\n",
    "# Print the result\n",
    "print(\"\\n \\n \\n\")\n",
    "print(\"Proportion of replicates with value as great or greater than empirical diff of means\")\n",
    "print('p-value = %.4f' % p)\n",
    "\n",
    "\n"
   ]
  },
  {
   "cell_type": "markdown",
   "metadata": {},
   "source": [
    "#### First hypothesis: Permutation Test - Simulating the null hypothesis that Qualified and Unqualified Lead Scores have identical distributions even while the means differ. Alpha = 5%. Our goal is to understand how likely we would have calculated a difference of means as great or greater than the current value. \n",
    "\n",
    "Results:\n",
    "> * Empirical Diff of Mean: 4.812948133518233\n",
    "> * Proportion of replicates with value as great or greater than empirical diff of means p-value = 0.0000\n",
    "\n",
    "\n",
    "The histogram of permuted replicates below shows how extreme a value of 4.8 is relative to expectation if the populations had been the same (Fig 1D).\n"
   ]
  },
  {
   "cell_type": "code",
   "execution_count": 31,
   "metadata": {},
   "outputs": [
    {
     "name": "stdout",
     "output_type": "stream",
     "text": [
      "\n",
      "\n",
      "Concatenated Qualified & Disqualified Data: [[93.]\n",
      " [88.]\n",
      " [87.]\n",
      " ...\n",
      " [92.]\n",
      " [90.]\n",
      " [83.]]\n",
      "\n",
      "\n",
      "Mean Values of Concatenated Data:  81.82739465518966\n",
      "\n",
      "\n",
      "Qualified Intro Call Shifted:      inferScore___Lead_AddedInfo\n",
      "6                     90.635677\n",
      "8                     85.635677\n",
      "9                     84.635677\n",
      "12                    72.635677\n",
      "13                    87.635677\n",
      "17                    85.635677\n",
      "20                    94.635677\n",
      "23                    89.635677\n",
      "25                    89.635677\n",
      "27                    87.635677\n",
      "\n",
      "\n",
      "Disqualified Intro Call Shifted:      inferScore___Lead_AddedInfo\n",
      "0                     92.448625\n",
      "1                     92.448625\n",
      "3                     56.448625\n",
      "4                     96.448625\n",
      "5                     82.448625\n",
      "7                     94.448625\n",
      "10                    92.448625\n",
      "11                    87.448625\n",
      "14                    87.448625\n",
      "18                    92.448625\n"
     ]
    },
    {
     "data": {
      "image/png": "[encoded data removed]",
      "text/plain": [
       "<Figure size 432x288 with 1 Axes>"
      ]
     },
     "metadata": {
      "needs_background": "light"
     },
     "output_type": "display_data"
    },
    {
     "name": "stdout",
     "output_type": "stream",
     "text": [
      "\n",
      " \n",
      "\n",
      "Qualified Intro Call Boostrap Replicates:  [81.75145525 81.92694217 81.95468169 ... 81.81745958 81.63961185\n",
      " 81.65899017]\n",
      "\n",
      "\n",
      "Disqualified Intro Call Boostrap Replicates:  [81.71370272 82.00272065 81.75200753 ... 81.50455439 82.24823818\n",
      " 81.83136776]\n",
      "\n",
      " \n",
      " \n",
      "\n",
      "Proportion of replicates with value as great or greater than empirical diff of means\n",
      "p-value = 0.0000\n"
     ]
    },
    {
     "data": {
      "image/png": "[encoded data removed]",
      "text/plain": [
       "<Figure size 432x288 with 1 Axes>"
      ]
     },
     "metadata": {
      "needs_background": "light"
     },
     "output_type": "display_data"
    }
   ],
   "source": [
    "# Hypothesis 2: Two Sample Bootstrap Hypothesis Test for Differences of Means - \n",
    "\n",
    "# Simulating the null hypothesis that the two variables are the same \n",
    "# but belong to two different distributions. \n",
    "# Shift both arrays of data to have the same mean and generate boostrap replicates \n",
    "# (draw samples from shifted arrays & compute the difference in means)\n",
    "\n",
    "\n",
    "# Measuring the difference between resulting calculated means to understand how much the\n",
    "# resulting difference would shift compared to the empirical difference between original groups\n",
    "\n",
    "\n",
    "# p-value in this case is measuring the proportion of replicates with a difference in means \n",
    "#greater than or equal to observed via the empirrical diff of means\n",
    "\n",
    "\n",
    "\n",
    "\n",
    "# Compute mean of all forces: mean_force\n",
    "\n",
    "forces_concat = pd.concat([force_a, force_b])\n",
    "forces_concat = np.array(forces_concat)\n",
    "\n",
    "print(\"\\n\")\n",
    "print(\"Concatenated Qualified & Disqualified Data:\", forces_concat)\n",
    "\n",
    "mean_force = np.mean(forces_concat)\n",
    "print(\"\\n\")\n",
    "print(\"Mean Values of Concatenated Data: \", mean_force)\n",
    "\n",
    "\n",
    "# Generate shifted arrays\n",
    "force_a_shifted = force_a - np.mean(force_a) + mean_force\n",
    "force_b_shifted = force_b - np.mean(force_b) + mean_force\n",
    "\n",
    "print(\"\\n\")\n",
    "print(\"Qualified Intro Call Shifted: \", force_a_shifted.head(10))\n",
    "print(\"\\n\")\n",
    "print(\"Disqualified Intro Call Shifted: \", force_b_shifted.head(10))\n",
    "\n",
    "force_a_shifted = np.array(force_a_shifted)\n",
    "force_b_shifted = np.array(force_b_shifted)\n",
    "\n",
    "fig5 = plt.hist(force_a_shifted, alpha=0.5)\n",
    "fig5 = plt.hist(force_b_shifted, alpha=0.5)\n",
    "\n",
    "fig5 = plt.xlabel('Shifted Array Values of Qualified and Disqualified Intro Calls')\n",
    "fig5 = plt.ylabel('Count')\n",
    "fig5 = plt.title('Fig 1E: Histogram of Shifted Arrays of Qualified & Disqualified Intro Calls for Boostrap Hypothesis')\n",
    "\n",
    "\n",
    "plt.show()\n",
    "\n",
    "# Compute 10,000 bootstrap replicates from shifted arrays\n",
    "bs_replicates_a = draw_bs_reps(force_a_shifted, np.mean, size=10000)\n",
    "bs_replicates_b = draw_bs_reps(force_b_shifted, np.mean, size=10000)\n",
    "\n",
    "print(\"\\n \\n\")\n",
    "print(\"Qualified Intro Call Boostrap Replicates: \", bs_replicates_a)\n",
    "\n",
    "print(\"\\n\")\n",
    "print(\"Disqualified Intro Call Boostrap Replicates: \", bs_replicates_b)\n",
    "\n",
    "# Get replicates of difference of means: bs_replicates\n",
    "bs_replicates = bs_replicates_a - bs_replicates_b\n",
    "\n",
    "# Compute and print p-value: p\n",
    "p = np.sum(bs_replicates >= empirical_diff_means) / len(bs_replicates)\n",
    "\n",
    "\n",
    "print(\"\\n \\n \\n\")\n",
    "print(\"Proportion of replicates with value as great or greater than empirical diff of means\")\n",
    "print('p-value = %.4f' % p)\n",
    "\n",
    "fig6 = plt.hist(bs_replicates, alpha=0.5)\n",
    "fig6 = plt.xlabel('Bootstrap Replicates')\n",
    "fig6 = plt.ylabel('Count')\n",
    "fig6 = plt.title('Fig 1F: Histogram of Bootstrap Replicates & Count')\n",
    "\n",
    "plt.show()"
   ]
  },
  {
   "cell_type": "markdown",
   "metadata": {},
   "source": [
    "#### Second hypothesis: Bootstrap Test - Simulating the null hypothesis that Qualified and Unqualified Lead Scores have identical means but come from different populations. Alpha = 5%. Our goal is to understand how likely we would have calculated a difference of means as great or greater than the current value given the shifted arrays (Fig 1E).\n",
    "\n",
    "\n",
    "Results:\n",
    "> * Mean Values of Concatenated Data:  81.82739465518966\n",
    "> * Empirical Diff of Mean: 4.812948133518233y\n",
    "> * Proportion of replicates with value as great or greater than empirical diff of means p-value = 0.0000\n",
    "\n",
    "The histogram of bootstrap replicates below shows how extreme a value of 4.8 is relative to expectation if the populations had been the same (Fig 1F).\n",
    "\n"
   ]
  },
  {
   "cell_type": "code",
   "execution_count": 32,
   "metadata": {},
   "outputs": [
    {
     "name": "stdout",
     "output_type": "stream",
     "text": [
      "MannwhitneyuResult(statistic=40960991.0, pvalue=1.2447515478111441e-107)\n",
      "Ttest_indResult(statistic=array([21.26104234]), pvalue=array([3.89798532e-99]))\n"
     ]
    }
   ],
   "source": [
    "#Using Mann-Whitney Test & Wlech's t-test\n",
    "\n",
    "print(stats.mannwhitneyu(force_a, force_b))\n",
    "\n",
    "print(stats.ttest_ind(force_a, force_b, equal_var = False))"
   ]
  },
  {
   "cell_type": "markdown",
   "metadata": {},
   "source": [
    "Both the Mann-Whitney test and Welch’s T-Test seem to also support rejecting the null hypothesis that the means are the same. "
   ]
  },
  {
   "cell_type": "markdown",
   "metadata": {},
   "source": [
    "## Analysis 2: Total Calls & Emails vs Target Outcome\n",
    "\n",
    "* The first step in analyzing the possible relationship between Total Calls & Emails on Target outcome is to examine the summary statistics and note differences in mean, median, min/max, In an ideal sales world, most sales managers would like sales reps to engage in the minimum amount of correspondence needed to: (1) qualify a prospect and (2) ensure good prospects are pulled into the sales process.  \n",
    "\n",
    "> * From printing the summary statistics, we can already see that Disqualified Intro Calls were associated with a higher mean of Total Calls & Emails compared to Qualified Intro Calls (36.9 vs. 28.0). \n",
    "> * We can also see a difference in the IQR of Disqualified vs Qualified Intro Calls, indicating that prospects of Disqualified Intro Calls could be taking up more sales rep time (Qualified: [12 (25%), 40 (75%)], Disqualified: [14 (25%), 52 (75%)]). ] \n"
   ]
  },
  {
   "cell_type": "code",
   "execution_count": 33,
   "metadata": {},
   "outputs": [
    {
     "name": "stdout",
     "output_type": "stream",
     "text": [
      "Qualified:         totalCallsEmails\n",
      "count       6953.000000\n",
      "mean          28.003452\n",
      "std           21.391253\n",
      "min            0.000000\n",
      "25%           12.000000\n",
      "50%           24.000000\n",
      "75%           40.000000\n",
      "max          100.000000\n",
      "\n",
      "\n",
      "Not Qualified:         totalCallsEmails\n",
      "count       6870.000000\n",
      "mean          36.900728\n",
      "std           29.253542\n",
      "min            0.000000\n",
      "25%           14.000000\n",
      "50%           30.000000\n",
      "75%           52.000000\n",
      "max          138.000000\n"
     ]
    },
    {
     "data": {
      "image/png": "[encoded data removed]",
      "text/plain": [
       "<Figure size 432x288 with 1 Axes>"
      ]
     },
     "metadata": {
      "needs_background": "light"
     },
     "output_type": "display_data"
    },
    {
     "data": {
      "image/png": "[encoded data removed]",
      "text/plain": [
       "<Figure size 432x288 with 1 Axes>"
      ]
     },
     "metadata": {
      "needs_background": "light"
     },
     "output_type": "display_data"
    },
    {
     "data": {
      "image/png": "[encoded data removed]",
      "text/plain": [
       "<Figure size 432x288 with 1 Axes>"
      ]
     },
     "metadata": {
      "needs_background": "light"
     },
     "output_type": "display_data"
    }
   ],
   "source": [
    "### Total Calls Emails\n",
    "\n",
    "closedWonIntro = closedIntroCalls_Data[closedIntroCalls_Data['Target___IntroCall_Outcome_map']==1]\n",
    "closedWonIntro = closedWonIntro[np.abs(closedWonIntro.totalCallsEmails-closedWonIntro.totalCallsEmails.mean()) <= (3*closedWonIntro.totalCallsEmails.std())]\n",
    "closedWonIntro = closedWonIntro[closedWonIntro['introCallCreated_leadCreated_delta']>0]\n",
    "\n",
    "closedLostIntro = closedIntroCalls_Data[closedIntroCalls_Data['Target___IntroCall_Outcome_map']==0]\n",
    "closedLostIntro = closedLostIntro[np.abs(closedLostIntro.totalCallsEmails-closedLostIntro.totalCallsEmails.mean()) <= (3*closedLostIntro.totalCallsEmails.std())]\n",
    "closedLostIntro = closedLostIntro[closedLostIntro['introCallCreated_leadCreated_delta']>0]\n",
    "\n",
    "\n",
    "\n",
    "print(\"Qualified: \", closedWonIntro[['totalCallsEmails']].describe())\n",
    "print(\"\\n\")\n",
    "print(\"Not Qualified: \", closedLostIntro[['totalCallsEmails']].describe())\n",
    "\n",
    "\n",
    "# Compute ECDFs\n",
    "x_qual, y_qual = ecdf(closedWonIntro.totalCallsEmails)\n",
    "x_notQual, y_notQual = ecdf(closedLostIntro.totalCallsEmails)\n",
    "\n",
    "\n",
    "\n",
    "\n",
    "# Plot all ECDFs on the same plot\n",
    "_ = plt.plot(x_qual, y_qual, marker = '*', linestyle = 'none')\n",
    "_ = plt.plot(x_notQual, y_notQual, marker = '.', linestyle = 'none')\n",
    "\n",
    "\n",
    "# Annotate the plot\n",
    "plt.legend(('Qual', 'Not Qualified'), loc='lower right')\n",
    "_ = plt.xlabel('Total Calls & Emails')\n",
    "_ = plt.ylabel('ECDF')\n",
    "_ = plt.title('Fig 2A: ECDF of Total Calls & Emails by Qualified vs. Unqualified Intro Calls')\n",
    "\n",
    "# Display the plot\n",
    "plt.show()\n",
    "\n",
    "\n",
    "# Create bee swarm plot\n",
    "fig2 = sns.violinplot(x='totalCallsEmails',y='Target___IntroCall_Outcome_map',data=closedIntroCalls_Data, scale='count',orient='h')\n",
    "\n",
    "# Label the axes\n",
    "fig2 = plt.xlabel('Total Calls & Emails')\n",
    "fig2 = plt.ylabel('Target: Intro Call Outcome')\n",
    "fig2 = plt.title('Fig 2B: Violin Plot: Lead Scores by Qualified vs. Unqualified Intro Calls')\n",
    "\n",
    "# Show the plot\n",
    "plt.show()\n",
    "\n",
    "\n",
    "\n",
    "# Create box plot with Seaborn's default settings\n",
    "fig3 = sns.boxplot(y='Target___IntroCall_Outcome_map',x='totalCallsEmails',data=closedIntroCalls_Data, orient='h')\n",
    "\n",
    "# Label the axes\n",
    "fig3 =plt.xlabel('Target: Intro Call Outcome')\n",
    "fig3 =plt.ylabel('Total Calls & Emails')\n",
    "fig3 = plt.title('Fig 2C: Box Plot: Lead Scores by Qualified vs. Unqualified Intro Calls')\n",
    "\n",
    "\n",
    "# Show the plot\n",
    "plt.show()\n"
   ]
  },
  {
   "cell_type": "markdown",
   "metadata": {},
   "source": [
    "* Similarly to Analysis Part 1, I visually examine the sample distributions further.\n",
    "\n",
    "> * [Fig 2A] Looking at the ECDF’s we can see that 60% of Qualified Intro Calls were associated with =<~30 Total Calls & Emails while the same % of Disqualified Intro Calls were associated with  =< ~40 Total Calls & Emails.\n",
    "> * [Fig 2B] Another trend we can observe (from both the violin plot and the summary statistics printout) is the presence of significant outliers in the Disqualified sample of Total Calls & Emails.       \t    \n",
    "> * [Fig 2C] We can also verify in the boxplot the wider IQR, mostly due to the 75 percentile of data being shifted to the right (i.e. towards higher Total Calls & Emails) with two incredibly extreme outliers (~600+ Emails & Calls!)\n"
   ]
  },
  {
   "cell_type": "code",
   "execution_count": 34,
   "metadata": {},
   "outputs": [
    {
     "name": "stdout",
     "output_type": "stream",
     "text": [
      "Qualified Intro Calls (Total Calls Emails):      totalCallsEmails\n",
      "6               12.0\n",
      "8               80.0\n",
      "9               88.0\n",
      "12              82.0\n",
      "17              40.0\n",
      "20              16.0\n",
      "23              20.0\n",
      "25              22.0\n",
      "27              36.0\n",
      "28              24.0\n",
      "29              34.0\n",
      "32              50.0\n",
      "37              44.0\n",
      "38              18.0\n",
      "42              16.0\n",
      "44              58.0\n",
      "45              70.0\n",
      "48              26.0\n",
      "50              54.0\n",
      "53              24.0\n",
      "\n",
      " \n",
      " \n",
      "\n",
      "Disqualified Intro Calls (Total Calls Emails):      totalCallsEmails\n",
      "0               20.0\n",
      "1               18.0\n",
      "3              136.0\n",
      "5               30.0\n",
      "7               64.0\n",
      "11              52.0\n",
      "14              60.0\n",
      "18              44.0\n",
      "21              46.0\n",
      "22              10.0\n",
      "24              28.0\n",
      "26              52.0\n",
      "30              60.0\n",
      "31              10.0\n",
      "33              24.0\n",
      "35              78.0\n",
      "40              10.0\n",
      "46              48.0\n",
      "49             138.0\n",
      "51              76.0\n",
      "\n",
      " \n",
      " \n",
      "\n",
      "Empirical Diff of Mean: 8.897276054590698\n",
      "\n",
      "\n"
     ]
    },
    {
     "data": {
      "image/png": "[encoded data removed]",
      "text/plain": [
       "<Figure size 432x288 with 1 Axes>"
      ]
     },
     "metadata": {
      "needs_background": "light"
     },
     "output_type": "display_data"
    },
    {
     "name": "stdout",
     "output_type": "stream",
     "text": [
      "\n",
      " \n",
      " \n",
      "\n",
      "Proportion of replicates with value as great or greater than empirical diff of means\n",
      "p-value = 0.0000\n"
     ]
    }
   ],
   "source": [
    "# Hypothesis 1: Permutation Test - \n",
    "# Simulating the null hypothesis that the two variables have identical distributions\n",
    "# Measuring the difference between resulting calculated means to understand how much the\n",
    "# resulting difference would shift compared to the empirical difference between original groups\n",
    "# If there is no measureable difference, then reshuffling of labels should be arbitrary\n",
    "\n",
    "# p-value in this case is measuring the proportion of replicates that have as \n",
    "# big a value as the empirical diff (or greater)\n",
    "# Statistically significant p-value is low\n",
    "# i.e. whether it falls into the tails of the empirically derived sampling distribution \n",
    "\n",
    "# Compute difference of mean impact force from experiment: empirical_diff_means\n",
    "\n",
    "force_a = closedWonIntro[['totalCallsEmails']]\n",
    "force_a = force_a.dropna()\n",
    "\n",
    "force_b = closedLostIntro[['totalCallsEmails']]\n",
    "force_b = force_b.dropna()\n",
    "\n",
    "print(\"Qualified Intro Calls (Total Calls Emails): \", force_a.head(20))\n",
    "print(\"\\n \\n \\n\")\n",
    "print(\"Disqualified Intro Calls (Total Calls Emails): \", force_b.head(20))\n",
    "\n",
    "# Compute difference of mean impact force from experiment: empirical_diff_means\n",
    "empirical_diff_means = diff_of_means(force_a, force_b)\n",
    "\n",
    "print(\"\\n \\n \\n\")\n",
    "print(\"Empirical Diff of Mean:\", empirical_diff_means)\n",
    "\n",
    "# Draw 10,000 permutation replicates: perm_replicates\n",
    "perm_replicates= draw_perm_reps(force_a, force_b, diff_of_means, size=10000)\n",
    "\n",
    "\n",
    "print(\"\\n\")\n",
    "\n",
    "fig4 = plt.hist(perm_replicates)\n",
    "fig4 = plt.xlabel('Permutated Replciates: Diff of Means')\n",
    "fig4 = plt.ylabel('Count out of 10,000 Draws')\n",
    "fig4 = plt.title('Fig 2D: Histogram of Permutated Replicates of Diff of Means for Qualified & Disqualified Intro Calls')\n",
    "\n",
    "\n",
    "plt.show()\n",
    "\n",
    "\n",
    "# Compute p-value: p\n",
    "p = len(perm_replicates[perm_replicates >= empirical_diff_means]) / len(perm_replicates)\n",
    "\n",
    "# Print the result\n",
    "print(\"\\n \\n \\n\")\n",
    "print(\"Proportion of replicates with value as great or greater than empirical diff of means\")\n",
    "print('p-value = %.4f' % p)"
   ]
  },
  {
   "cell_type": "markdown",
   "metadata": {},
   "source": [
    "* First hypothesis: \n",
    "> * Permutation Test - Simulating the null hypothesis that Qualified and Unqualified Total Calls & Emails have identical distributions even while the means differ. Alpha = 5%. Our goal is to understand how likely we would have calculated a difference of means as great or greater than the current value. \n",
    "\n",
    "Results:\n",
    "> * Empirical Diff of Mean: 8.897276054590698\n",
    "> * Proportion of replicates with value as great or greater than empirical diff of means p-value = 0.0000\n",
    "\n",
    "The histogram of permuted replicates below shows how extreme a value of 9.0 is relative to expectation if the populations had been the same (Fig 2D).\n"
   ]
  },
  {
   "cell_type": "code",
   "execution_count": 35,
   "metadata": {},
   "outputs": [
    {
     "name": "stdout",
     "output_type": "stream",
     "text": [
      "\n",
      "\n",
      "Concatenated Qualified & Disqualified Data: [[ 12.]\n",
      " [ 80.]\n",
      " [ 88.]\n",
      " ...\n",
      " [126.]\n",
      " [ 46.]\n",
      " [ 50.]]\n",
      "\n",
      "\n",
      "Mean Values of Concatenated Data:  32.42537799319974\n",
      "\n",
      "\n",
      "Qualified Intro Call Shifted:      totalCallsEmails\n",
      "6          16.421926\n",
      "8          84.421926\n",
      "9          92.421926\n",
      "12         86.421926\n",
      "17         44.421926\n",
      "20         20.421926\n",
      "23         24.421926\n",
      "25         26.421926\n",
      "27         40.421926\n",
      "28         28.421926\n",
      "\n",
      "\n",
      "Disqualified Intro Call Shifted:      totalCallsEmails\n",
      "0           15.52465\n",
      "1           13.52465\n",
      "3          131.52465\n",
      "5           25.52465\n",
      "7           59.52465\n",
      "11          47.52465\n",
      "14          55.52465\n",
      "18          39.52465\n",
      "21          41.52465\n",
      "22           5.52465\n"
     ]
    },
    {
     "data": {
      "image/png": "[encoded data removed]",
      "text/plain": [
       "<Figure size 432x288 with 1 Axes>"
      ]
     },
     "metadata": {
      "needs_background": "light"
     },
     "output_type": "display_data"
    },
    {
     "name": "stdout",
     "output_type": "stream",
     "text": [
      "\n",
      " \n",
      "\n",
      "Qualified Intro Call Boostrap Replicates:  [32.59911595 32.54072389 32.3396596  ... 32.36267125 32.78579796\n",
      " 32.44982787]\n",
      "\n",
      "\n",
      "Disqualified Intro Call Boostrap Replicates:  [32.80674626 32.40994859 32.45536344 ... 32.59713927 31.74386416\n",
      " 32.00791074]\n",
      "\n",
      " \n",
      " \n",
      "\n",
      "Proportion of replicates with value as great or greater than empirical diff of means\n",
      "p-value = 0.0000\n"
     ]
    },
    {
     "data": {
      "image/png": "[encoded data removed]",
      "text/plain": [
       "<Figure size 432x288 with 1 Axes>"
      ]
     },
     "metadata": {
      "needs_background": "light"
     },
     "output_type": "display_data"
    }
   ],
   "source": [
    "# Hypothesis 2: Two Sample Bootstrap Hypothesis Test for Differences of Means - \n",
    "\n",
    "# Simulating the null hypothesis that the two variables are the same \n",
    "# but belong to two different distributions. \n",
    "# Shift both arrays of data to have the same mean and generate boostrap replicates \n",
    "# (draw samples from shifted arrays & compute the difference in means)\n",
    "\n",
    "\n",
    "# Measuring the difference between resulting calculated means to understand how much the\n",
    "# resulting difference would shift compared to the empirical difference between original groups\n",
    "\n",
    "\n",
    "# p-value in this case is measuring the proportion of replicates with a difference in means \n",
    "#greater than or equal to observed via the empirrical diff of means\n",
    "\n",
    "\n",
    "\n",
    "\n",
    "# Compute mean of all forces: mean_force\n",
    "\n",
    "forces_concat = pd.concat([force_a, force_b])\n",
    "forces_concat = np.array(forces_concat)\n",
    "\n",
    "print(\"\\n\")\n",
    "print(\"Concatenated Qualified & Disqualified Data:\", forces_concat)\n",
    "\n",
    "mean_force = np.mean(forces_concat)\n",
    "print(\"\\n\")\n",
    "print(\"Mean Values of Concatenated Data: \", mean_force)\n",
    "\n",
    "\n",
    "# Generate shifted arrays\n",
    "force_a_shifted = force_a - np.mean(force_a) + mean_force\n",
    "force_b_shifted = force_b - np.mean(force_b) + mean_force\n",
    "\n",
    "print(\"\\n\")\n",
    "print(\"Qualified Intro Call Shifted: \", force_a_shifted.head(10))\n",
    "print(\"\\n\")\n",
    "print(\"Disqualified Intro Call Shifted: \", force_b_shifted.head(10))\n",
    "\n",
    "force_a_shifted = np.array(force_a_shifted)\n",
    "force_b_shifted = np.array(force_b_shifted)\n",
    "\n",
    "fig5 = plt.hist(force_a_shifted, alpha=0.5)\n",
    "fig5 = plt.hist(force_b_shifted, alpha=0.5)\n",
    "\n",
    "fig5 = plt.xlabel('Shifted Array Values of Qualified and Disqualified Intro Calls')\n",
    "fig5 = plt.ylabel('Count')\n",
    "fig5 = plt.title('Fig 2E: Histogram of Shifted Arrays of Qualified & Disqualified Intro Calls for Boostrap Hypothesis')\n",
    "\n",
    "\n",
    "plt.show()\n",
    "\n",
    "# Compute 10,000 bootstrap replicates from shifted arrays\n",
    "bs_replicates_a = draw_bs_reps(force_a_shifted, np.mean, size=10000)\n",
    "bs_replicates_b = draw_bs_reps(force_b_shifted, np.mean, size=10000)\n",
    "\n",
    "print(\"\\n \\n\")\n",
    "print(\"Qualified Intro Call Boostrap Replicates: \", bs_replicates_a)\n",
    "\n",
    "print(\"\\n\")\n",
    "print(\"Disqualified Intro Call Boostrap Replicates: \", bs_replicates_b)\n",
    "\n",
    "# Get replicates of difference of means: bs_replicates\n",
    "bs_replicates = bs_replicates_a - bs_replicates_b\n",
    "\n",
    "# Compute and print p-value: p\n",
    "p = np.sum(bs_replicates >= empirical_diff_means) / len(bs_replicates)\n",
    "\n",
    "\n",
    "print(\"\\n \\n \\n\")\n",
    "print(\"Proportion of replicates with value as great or greater than empirical diff of means\")\n",
    "print('p-value = %.4f' % p)\n",
    "\n",
    "fig6 = plt.hist(bs_replicates, alpha=0.5)\n",
    "fig6 = plt.xlabel('Bootstrap Replicates')\n",
    "fig6 = plt.ylabel('Count')\n",
    "fig6 = plt.title('Fig 2F: Histogram of Bootstrap Replicates & Count')\n",
    "\n",
    "plt.show()"
   ]
  },
  {
   "cell_type": "markdown",
   "metadata": {},
   "source": [
    "* Second hypothesis: Bootstrap Test - Simulating the null hypothesis that Qualified and Unqualified Total Calls/Emails have identical means but come from different populations. Alpha = 5%. Our goal is to understand how likely we would have calculated a difference of means as great or greater than the current value given the shifted arrays (Fig 2E). \n",
    "\n",
    "Results:\n",
    "> * Mean Values of Concatenated Data:  32.42537799319974\n",
    "> * Empirical Diff of Mean: 8.897276054590698\n",
    "> * Proportion of replicates with value as great or greater than empirical diff of means p-value = 0.0000\n",
    "\n",
    "The histogram of bootstrap replicates below shows how extreme a value of 9.0 is relative to expectation if the populations had been the same (Fig 2F).\n"
   ]
  },
  {
   "cell_type": "code",
   "execution_count": 36,
   "metadata": {},
   "outputs": [
    {
     "name": "stdout",
     "output_type": "stream",
     "text": [
      "MannwhitneyuResult(statistic=20132210.0, pvalue=6.468704474691752e-58)\n",
      "Ttest_indResult(statistic=array([-20.39150626]), pvalue=array([5.83924509e-91]))\n"
     ]
    }
   ],
   "source": [
    "#Using Mann-Whitney Test & Wlech's t-test\n",
    "\n",
    "print(stats.mannwhitneyu(force_a, force_b))\n",
    "\n",
    "print(stats.ttest_ind(force_a, force_b, equal_var = False))"
   ]
  },
  {
   "cell_type": "markdown",
   "metadata": {},
   "source": [
    "Both the Mann-Whitney test and Welch’s T-Test seem to also support rejecting the null hypothesis that the means are the same.\n"
   ]
  },
  {
   "cell_type": "markdown",
   "metadata": {},
   "source": [
    "## Analysis 3: Lead-Intro Call Delta vs Target Outcome\n",
    "\n",
    "* As written previously, lead freshness is an important concept in sales and we could expect to see Disqualified Intro Calls associated with higher Time Deltas. \n",
    "> *  On average however, Qualified Intro Calls have higher means (39 days) than Disqualified Intro Calls (30 days). \n",
    "\n"
   ]
  },
  {
   "cell_type": "code",
   "execution_count": 37,
   "metadata": {},
   "outputs": [
    {
     "name": "stdout",
     "output_type": "stream",
     "text": [
      "Qualified:         introCallCreated_leadCreated_delta\n",
      "count                         8938.000000\n",
      "mean                            30.622734\n",
      "std                             62.353438\n",
      "min                              1.000000\n",
      "25%                              2.000000\n",
      "50%                              7.000000\n",
      "75%                             25.000000\n",
      "max                            420.000000\n",
      "\n",
      "\n",
      "Not Qualified:         introCallCreated_leadCreated_delta\n",
      "count                         7507.000000\n",
      "mean                            29.170108\n",
      "std                             56.099237\n",
      "min                              1.000000\n",
      "25%                              3.000000\n",
      "50%                              8.000000\n",
      "75%                             28.000000\n",
      "max                            390.000000\n"
     ]
    },
    {
     "data": {
      "image/png": "[encoded data removed]",
      "text/plain": [
       "<Figure size 432x288 with 1 Axes>"
      ]
     },
     "metadata": {
      "needs_background": "light"
     },
     "output_type": "display_data"
    },
    {
     "data": {
      "image/png": "[encoded data removed]",
      "text/plain": [
       "<Figure size 432x288 with 1 Axes>"
      ]
     },
     "metadata": {
      "needs_background": "light"
     },
     "output_type": "display_data"
    },
    {
     "data": {
      "image/png": "[encoded data removed]",
      "text/plain": [
       "<Figure size 432x288 with 1 Axes>"
      ]
     },
     "metadata": {
      "needs_background": "light"
     },
     "output_type": "display_data"
    }
   ],
   "source": [
    "### Lead Created Delta\n",
    "\n",
    "closedWonIntro = closedIntroCalls_Data[closedIntroCalls_Data['Target___IntroCall_Outcome_map']==1]\n",
    "closedWonIntro = closedWonIntro[np.abs(closedWonIntro.introCallCreated_leadCreated_delta-closedWonIntro.introCallCreated_leadCreated_delta.mean()) <= (3*closedWonIntro.introCallCreated_leadCreated_delta.std())]\n",
    "closedWonIntro = closedWonIntro[closedWonIntro['introCallCreated_leadCreated_delta']>0]\n",
    "\n",
    "closedLostIntro = closedIntroCalls_Data[closedIntroCalls_Data['Target___IntroCall_Outcome_map']==0]\n",
    "closedLostIntro = closedLostIntro[np.abs(closedLostIntro.introCallCreated_leadCreated_delta-closedLostIntro.introCallCreated_leadCreated_delta.mean()) <= (3*closedLostIntro.introCallCreated_leadCreated_delta.std())]\n",
    "closedLostIntro = closedLostIntro[closedLostIntro['introCallCreated_leadCreated_delta']>0]\n",
    "\n",
    "closedIntroCalls_Data = closedIntroCalls_Data[np.abs(closedIntroCalls_Data.introCallCreated_leadCreated_delta-closedIntroCalls_Data.introCallCreated_leadCreated_delta.mean()) <= (3*closedIntroCalls_Data.introCallCreated_leadCreated_delta.std())]\n",
    "\n",
    "print(\"Qualified: \", closedWonIntro[['introCallCreated_leadCreated_delta']].describe())\n",
    "print(\"\\n\")\n",
    "print(\"Not Qualified: \", closedLostIntro[['introCallCreated_leadCreated_delta']].describe())\n",
    "\n",
    "\n",
    "# Compute ECDFs\n",
    "x_qual, y_qual = ecdf(closedWonIntro.introCallCreated_leadCreated_delta)\n",
    "x_notQual, y_notQual = ecdf(closedLostIntro.introCallCreated_leadCreated_delta)\n",
    "\n",
    "\n",
    "# Plot all ECDFs on the same plot\n",
    "_ = plt.plot(x_qual, y_qual, marker = '*', linestyle = 'none')\n",
    "_ = plt.plot(x_notQual, y_notQual, marker = '.', linestyle = 'none')\n",
    "\n",
    "\n",
    "\n",
    "# Annotate the plot\n",
    "plt.legend(('Qual', 'Not Qualified'), loc='lower right')\n",
    "_ = plt.xlabel('Time between Lead and Intro Call Creation')\n",
    "_ = plt.ylabel('ECDF')\n",
    "_ = plt.title('Fig 3A: ECDF of Time between Lead and Intro Call Creation by Qualified vs. Unqualified Intro Calls')\n",
    "\n",
    "# Display the plot\n",
    "plt.show()\n",
    "\n",
    "\n",
    "# Create bee swarm plot\n",
    "fig2 = sns.violinplot(x='introCallCreated_leadCreated_delta',y='Target___IntroCall_Outcome_map',data=closedIntroCalls_Data, scale='count',orient='h')\n",
    "\n",
    "# Label the axes\n",
    "fig2 = plt.xlabel('Time between Lead and Intro Call Creation')\n",
    "fig2 = plt.ylabel('Target: Intro Call Outcome')\n",
    "fig2 = plt.title('Fig 3B: Violin Plot: Time between Lead and Intro Call Creation by Qualified vs. Unqualified Intro Calls')\n",
    "\n",
    "# Show the plot\n",
    "plt.show()\n",
    "\n",
    "\n",
    "\n",
    "# Create box plot with Seaborn's default settings\n",
    "fig3 = sns.boxplot(y='Target___IntroCall_Outcome_map',x='introCallCreated_leadCreated_delta',data=closedIntroCalls_Data, orient='h')\n",
    "\n",
    "# Label the axes\n",
    "fig3 =plt.xlabel('Target: Intro Call Outcome')\n",
    "fig3 =plt.ylabel('Time between Lead and Intro Call Creation')\n",
    "fig3 = plt.title('Fig 3C: Box Plot: Time between Lead and Intro Call Creation by Qualified vs. Unqualified Intro Calls')\n",
    "\n",
    "\n",
    "# Show the plot\n",
    "plt.show()\n"
   ]
  },
  {
   "cell_type": "markdown",
   "metadata": {},
   "source": [
    "* We can also observe some interesting characteristics about the data with regards to the Time Delta of Lead Created to Intro Call Created. \n",
    "> * [Fig 3A] The ECDF’s are very similar giving the first indication that there might not be significant differences between Disqualified and Qualified Intro Calls with regards to the Time Delta. \n",
    "> * [Fig 3B] We do see however that there are potentially some negative values that could be impacting the mean.   \n",
    "> * [Fig 3C]  For both groups, we notice there are a number of outliers for both Qualified and Disqualified Intro Calls. Qualified Intro Calls also has some strangely negative values which may need to be excluded. \n"
   ]
  },
  {
   "cell_type": "code",
   "execution_count": 38,
   "metadata": {},
   "outputs": [
    {
     "name": "stdout",
     "output_type": "stream",
     "text": [
      "Qualified Intro Calls (Time Duration of Lead to Intro call Created):      introCallCreated_leadCreated_delta\n",
      "6                                  1.0\n",
      "8                                 29.0\n",
      "9                                119.0\n",
      "12                                58.0\n",
      "17                                 1.0\n",
      "20                                 5.0\n",
      "23                                 3.0\n",
      "25                                14.0\n",
      "27                                 7.0\n",
      "28                                 5.0\n",
      "29                                 1.0\n",
      "32                                10.0\n",
      "37                                 5.0\n",
      "38                               317.0\n",
      "42                                23.0\n",
      "44                                22.0\n",
      "45                                50.0\n",
      "48                                 2.0\n",
      "50                                 6.0\n",
      "53                               124.0\n",
      "\n",
      " \n",
      " \n",
      "\n",
      "Disqualified Intro Calls (Time Duration of Lead to Intro call Created):      introCallCreated_leadCreated_delta\n",
      "0                                  6.0\n",
      "1                                  5.0\n",
      "3                                 77.0\n",
      "7                                 48.0\n",
      "11                                30.0\n",
      "14                                35.0\n",
      "18                                 1.0\n",
      "21                                44.0\n",
      "22                                92.0\n",
      "24                                 1.0\n",
      "26                                 1.0\n",
      "30                                 4.0\n",
      "31                                 3.0\n",
      "33                                41.0\n",
      "35                               265.0\n",
      "40                                 2.0\n",
      "46                               132.0\n",
      "49                               102.0\n",
      "51                                 6.0\n",
      "60                                11.0\n",
      "\n",
      " \n",
      " \n",
      "\n",
      "Empirical Diff of Mean: 1.452626493187548\n",
      "\n",
      "\n"
     ]
    },
    {
     "data": {
      "image/png": "[encoded data removed]",
      "text/plain": [
       "<Figure size 432x288 with 1 Axes>"
      ]
     },
     "metadata": {
      "needs_background": "light"
     },
     "output_type": "display_data"
    },
    {
     "name": "stdout",
     "output_type": "stream",
     "text": [
      "\n",
      " \n",
      " \n",
      "\n",
      "Proportion of replicates with value as great or greater than empirical diff of means\n",
      "p-value = 0.1170\n"
     ]
    }
   ],
   "source": [
    "# Hypothesis 1: Permutation Test - \n",
    "# Simulating the null hypothesis that the two variables have identical distributions\n",
    "# Measuring the difference between resulting calculated means to understand how much the\n",
    "# resulting difference would shift compared to the empirical difference between original groups\n",
    "# If there is no measureable difference, then reshuffling of labels should be arbitrary\n",
    "\n",
    "# p-value in this case is measuring the proportion of replicates that have as \n",
    "# big a value as the empirical diff (or greater)\n",
    "# Statistically significant p-value is low\n",
    "# i.e. whether it falls into the tails of the empirically derived sampling distribution \n",
    "\n",
    "# Compute difference of mean impact force from experiment: empirical_diff_means\n",
    "\n",
    "force_a = closedWonIntro[['introCallCreated_leadCreated_delta']]\n",
    "force_a = force_a.dropna()\n",
    "\n",
    "force_b = closedLostIntro[['introCallCreated_leadCreated_delta']]\n",
    "force_b = force_b.dropna()\n",
    "\n",
    "print(\"Qualified Intro Calls (Time Duration of Lead to Intro call Created): \", force_a.head(20))\n",
    "print(\"\\n \\n \\n\")\n",
    "print(\"Disqualified Intro Calls (Time Duration of Lead to Intro call Created): \", force_b.head(20))\n",
    "\n",
    "# Compute difference of mean impact force from experiment: empirical_diff_means\n",
    "empirical_diff_means = diff_of_means(force_a, force_b)\n",
    "\n",
    "print(\"\\n \\n \\n\")\n",
    "print(\"Empirical Diff of Mean:\", empirical_diff_means)\n",
    "\n",
    "# Draw 10,000 permutation replicates: perm_replicates\n",
    "perm_replicates= draw_perm_reps(force_a, force_b, diff_of_means, size=10000)\n",
    "\n",
    "\n",
    "print(\"\\n\")\n",
    "\n",
    "fig4 = plt.hist(perm_replicates)\n",
    "fig4 = plt.xlabel('Permutated Replciates: Diff of Means')\n",
    "fig4 = plt.ylabel('Count out of 10,000 Draws')\n",
    "fig4 = plt.title('Fig 3D: Histogram of Permutated Replicates of Diff of Means for Qualified & Disqualified Intro Calls')\n",
    "\n",
    "\n",
    "plt.show()\n",
    "\n",
    "\n",
    "# Compute p-value: p\n",
    "p = len(perm_replicates[perm_replicates >= empirical_diff_means]) / len(perm_replicates)\n",
    "\n",
    "# Print the result\n",
    "print(\"\\n \\n \\n\")\n",
    "print(\"Proportion of replicates with value as great or greater than empirical diff of means\")\n",
    "print('p-value = %.4f' % p)"
   ]
  },
  {
   "cell_type": "markdown",
   "metadata": {},
   "source": [
    "* First hypothesis: Permutation Test - Simulating the null hypothesis that Qualified and Unqualified Lead Scores have identical distributions even while the means differ. Alpha = 5%. Our goal is to understand how likely we would have calculated a difference of means as great or greater than the current value. \n",
    "\n",
    "\n",
    "* Results:\n",
    "> * Empirical Diff of Mean: 1.452626493187548\n",
    "> * Proportion of replicates with value as great or greater than empirical diff of means p-value = 0.1170\n",
    "> * From the histogram of permuted replicates we can visually see that the empirical mean of 1.5 isn’t an extreme value with about 12% of the permuted values having a value as great or greater than the empirical difference of means. The permutation test result doesn’t seem to provide evidence to reject the null hypothesis that Qualified and Disqualified Intro Calls are significantly different with regards to the Time Delta(Fig 3D).\n"
   ]
  },
  {
   "cell_type": "code",
   "execution_count": 39,
   "metadata": {},
   "outputs": [
    {
     "name": "stdout",
     "output_type": "stream",
     "text": [
      "\n",
      "\n",
      "Concatenated Qualified & Disqualified Data: [[  1.]\n",
      " [ 29.]\n",
      " [119.]\n",
      " ...\n",
      " [ 91.]\n",
      " [ 26.]\n",
      " [ 58.]]\n",
      "\n",
      "\n",
      "Mean Values of Concatenated Data:  29.95962298570994\n",
      "\n",
      "\n",
      "Qualified Intro Call Shifted:      introCallCreated_leadCreated_delta\n",
      "6                             0.336889\n",
      "8                            28.336889\n",
      "9                           118.336889\n",
      "12                           57.336889\n",
      "17                            0.336889\n",
      "20                            4.336889\n",
      "23                            2.336889\n",
      "25                           13.336889\n",
      "27                            6.336889\n",
      "28                            4.336889\n",
      "\n",
      "\n",
      "Disqualified Intro Call Shifted:      introCallCreated_leadCreated_delta\n",
      "0                             6.789515\n",
      "1                             5.789515\n",
      "3                            77.789515\n",
      "7                            48.789515\n",
      "11                           30.789515\n",
      "14                           35.789515\n",
      "18                            1.789515\n",
      "21                           44.789515\n",
      "22                           92.789515\n",
      "24                            1.789515\n"
     ]
    },
    {
     "data": {
      "image/png": "[encoded data removed]",
      "text/plain": [
       "<Figure size 432x288 with 1 Axes>"
      ]
     },
     "metadata": {
      "needs_background": "light"
     },
     "output_type": "display_data"
    },
    {
     "name": "stdout",
     "output_type": "stream",
     "text": [
      "\n",
      " \n",
      "\n",
      "Qualified Intro Call Boostrap Replicates:  [29.88208886 29.81909938 30.22702061 ... 29.37515219 29.6438924\n",
      " 29.97349634]\n",
      "\n",
      "\n",
      "Disqualified Intro Call Boostrap Replicates:  [29.7912468  29.71838148 29.7364979  ... 30.52882506 29.49432393\n",
      " 31.02995734]\n",
      "\n",
      " \n",
      " \n",
      "\n",
      "Proportion of replicates with value as great or greater than empirical diff of means\n",
      "p-value = 0.0588\n"
     ]
    },
    {
     "data": {
      "image/png": "[encoded data removed]",
      "text/plain": [
       "<Figure size 432x288 with 1 Axes>"
      ]
     },
     "metadata": {
      "needs_background": "light"
     },
     "output_type": "display_data"
    }
   ],
   "source": [
    "# Hypothesis 2: Two Sample Bootstrap Hypothesis Test for Differences of Means - \n",
    "\n",
    "# Simulating the null hypothesis that the two variables are the same \n",
    "# but belong to two different distributions. \n",
    "# Shift both arrays of data to have the same mean and generate boostrap replicates \n",
    "# (draw samples from shifted arrays & compute the difference in means)\n",
    "\n",
    "\n",
    "# Measuring the difference between resulting calculated means to understand how much the\n",
    "# resulting difference would shift compared to the empirical difference between original groups\n",
    "\n",
    "\n",
    "# p-value in this case is measuring the proportion of replicates with a difference in means \n",
    "#greater than or equal to observed via the empirrical diff of means\n",
    "\n",
    "\n",
    "\n",
    "\n",
    "# Compute mean of all forces: mean_force\n",
    "\n",
    "forces_concat = pd.concat([force_a, force_b])\n",
    "forces_concat = np.array(forces_concat)\n",
    "\n",
    "print(\"\\n\")\n",
    "print(\"Concatenated Qualified & Disqualified Data:\", forces_concat)\n",
    "\n",
    "mean_force = np.mean(forces_concat)\n",
    "print(\"\\n\")\n",
    "print(\"Mean Values of Concatenated Data: \", mean_force)\n",
    "\n",
    "\n",
    "# Generate shifted arrays\n",
    "force_a_shifted = force_a - np.mean(force_a) + mean_force\n",
    "force_b_shifted = force_b - np.mean(force_b) + mean_force\n",
    "\n",
    "print(\"\\n\")\n",
    "print(\"Qualified Intro Call Shifted: \", force_a_shifted.head(10))\n",
    "print(\"\\n\")\n",
    "print(\"Disqualified Intro Call Shifted: \", force_b_shifted.head(10))\n",
    "\n",
    "force_a_shifted = np.array(force_a_shifted)\n",
    "force_b_shifted = np.array(force_b_shifted)\n",
    "\n",
    "fig5 = plt.hist(force_a_shifted, alpha=0.5)\n",
    "fig5 = plt.hist(force_b_shifted, alpha=0.5)\n",
    "\n",
    "fig5 = plt.xlabel('Shifted Array Values of Qualified and Disqualified Intro Calls')\n",
    "fig5 = plt.ylabel('Count')\n",
    "fig5 = plt.title('Fig 3E: Histogram of Shifted Arrays of Qualified & Disqualified Intro Calls for Boostrap Hypothesis')\n",
    "\n",
    "\n",
    "plt.show()\n",
    "\n",
    "# Compute 10,000 bootstrap replicates from shifted arrays\n",
    "bs_replicates_a = draw_bs_reps(force_a_shifted, np.mean, size=10000)\n",
    "bs_replicates_b = draw_bs_reps(force_b_shifted, np.mean, size=10000)\n",
    "\n",
    "print(\"\\n \\n\")\n",
    "print(\"Qualified Intro Call Boostrap Replicates: \", bs_replicates_a)\n",
    "\n",
    "print(\"\\n\")\n",
    "print(\"Disqualified Intro Call Boostrap Replicates: \", bs_replicates_b)\n",
    "\n",
    "# Get replicates of difference of means: bs_replicates\n",
    "bs_replicates = bs_replicates_a - bs_replicates_b\n",
    "\n",
    "# Compute and print p-value: p\n",
    "p = np.sum(bs_replicates >= empirical_diff_means) / len(bs_replicates)\n",
    "\n",
    "\n",
    "print(\"\\n \\n \\n\")\n",
    "print(\"Proportion of replicates with value as great or greater than empirical diff of means\")\n",
    "print('p-value = %.4f' % p)\n",
    "\n",
    "fig6 = plt.hist(bs_replicates_a, alpha=0.5)\n",
    "fig6 = plt.hist(bs_replicates_b, alpha=0.5)\n",
    "fig6 = plt.xlabel('Bootstrap Replicates')\n",
    "fig6 = plt.ylabel('Count')\n",
    "fig6 = plt.title('Fig 3F: Histogram of Bootstrap Replicates & Count')\n",
    "\n",
    "plt.show()"
   ]
  },
  {
   "cell_type": "markdown",
   "metadata": {},
   "source": [
    "* Second hypothesis: Bootstrap Test - Simulating the null hypothesis that Qualified and Unqualified Lead Scores have identical means but come from different populations. Alpha = 5%. Our goal is to understand how likely we would have calculated a difference of means as great or greater than the current value given the shifted arrays (Fig 1E). \n",
    "\n",
    "\n",
    "Results:\n",
    "> * Mean Values of Concatenated Data:  29.95962298570994\n",
    "> * Empirical Diff of Mean: 1.452626493187548\n",
    "> * Proportion of replicates with value as great or greater than empirical diff of means p-value = 0.0588\n",
    "\n",
    "Similarly the Bootstrap test isn’t significant at the 5% level, with ~5.9% of the bootstrap replicates exhibiting a value equal to or greater than the empirical difference of means.  (Fig 3F).\n"
   ]
  },
  {
   "cell_type": "code",
   "execution_count": 40,
   "metadata": {},
   "outputs": [
    {
     "name": "stdout",
     "output_type": "stream",
     "text": [
      "MannwhitneyuResult(statistic=32321837.5, pvalue=2.4385713413183856e-05)\n",
      "Ttest_indResult(statistic=array([1.5717012]), pvalue=array([0.1160392]))\n"
     ]
    }
   ],
   "source": [
    "#Using Mann-Whitney Test & Wlech's t-test\n",
    "\n",
    "print(stats.mannwhitneyu(force_a, force_b))\n",
    "\n",
    "print(stats.ttest_ind(force_a, force_b, equal_var = False))"
   ]
  },
  {
   "cell_type": "markdown",
   "metadata": {},
   "source": [
    "We are seeing conflicted results from the Mann-Whitney test (which seems to reject the null hypothesis that the populations are similar) and Welch’s T-Test (which doesn’t result in a statistically significant p-value)."
   ]
  },
  {
   "cell_type": "code",
   "execution_count": null,
   "metadata": {},
   "outputs": [],
   "source": []
  }
 ],
 "metadata": {
  "celltoolbar": "Raw Cell Format",
  "kernelspec": {
   "display_name": "Python 3",
   "language": "python",
   "name": "python3"
  },
  "language_info": {
   "codemirror_mode": {
    "name": "ipython",
    "version": 3
   },
   "file_extension": ".py",
   "mimetype": "text/x-python",
   "name": "python",
   "nbconvert_exporter": "python",
   "pygments_lexer": "ipython3",
   "version": "3.7.0"
  }
 },
 "nbformat": 4,
 "nbformat_minor": 2
}
